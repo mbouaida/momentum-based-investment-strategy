{
 "cells": [
  {
   "cell_type": "markdown",
   "metadata": {},
   "source": [
    "# <font color='blue'>Part A – Non-Technical :</font>\n",
    "\n",
    ">___1. Asset Universe:___\n",
    ">>In this exercise I have chosen to consider only the 50 largest Defi in terms of Market Cap. The market data is collected using coinmarketcap api.\n",
    "\n",
    ">___2. Asset selection procedure:___\n",
    ">>I decided to build a portfolio of 10 Defi chosen each time according to the strength of their momentum and the cluster to which they belong.\n",
    "In order to make a prudent and diversified choice of Defi from my portfolio i used Clustering. Clustering deals with the task of grouping a set of physical or abstract objects into classes such that objects within a class exhibit close similarity to one another, while simultaneously expressing a strong dissimilarity to objects with other classes.\n",
    "I chose to use the k-means method with a cluster count of 10. So I adjust my portfolio every week (every Thursday precisely. I avoided choosing Friday because it is the last day of the week often very volatile because several Hedge Funds close their positions on Friday) by ordering the Defi according to their momentum and ensuring that they are in different clusters according to an algorithm that I will explain later.\n",
    "\n",
    ">___3. Choice of algorithm:___\n",
    ">><font color='red'>__a. Weekly selection:__</font>   \n",
    ">>><p>After the clustering (taking as input for every asset its mean return and the variance-covariance vector of its    returns with those of other Defi) I got 10 different Defi clusters.\n",
    ">>><p>A cluster cannot be present more than twice in the portfolio. So every Thursday, I select the 2 best performing Defi in terms of momentum in each cluster. Then I group all the Defi selected in all the clusters and I order them again by momentum and I choose the first ten.\n",
    ">>><p>The momentum is estimated by calculating the difference between the 60-day and 30-day simple moving average of the logarithm of the price divided by the logarithm of the price: \n",
    "***\n",
    "$$Momentum =  \\displaystyle \\frac{sma_{60}(y) - sma_{30}(y)}{y}\\text{ , where }y = log(price)$$\n",
    "***\n",
    ">>><div class=\"alert alert-block alert-danger\"><b>Additional condition:</b> \n",
    "    <p>Defi with a momentum > 50 are not selected because I consider it dangerous and it is very likely that the bullish momentum will end very soon.</p>\n",
    "    <p>If a Defi has experienced a fall of more than 90% in its value it is immediately removed from the global list of Defi and considered as a bankrupt project and no investment in this project will be authorized in the future.</p></div>\n",
    "\n",
    ">><font color='red'>__b. Constrained Portfolio Optimization:__</font>\n",
    ">>><p><font color='green'>By investing in this portfolio of Defi i considerthe following objectives:</font>\n",
    ">>><p>&emsp;(1) maximize expected portfolio return.\n",
    ">>><p>&emsp;(2) minimize portfolio risk.\n",
    "$$\\displaystyle min \\Bigg(\\lambda \\sum \\limits _{i} \\sum \\limits _{j} W_{i}.W_{j}.\\sigma_{ij} - (1-\\lambda)\\sum W_{i}.\\mu_{i}\\Bigg)\\text{ , where } \\lambda \\in [0,1] \\text{ is the risk aversion parameter}$$\n",
    ">>><p>&emsp;(3) Exercise caution over the inclusion of all clusters by ensuring that only 30% of the capital is invested  <font color='white'>__</font>in one cluster.\n",
    ">>><p>&emsp;(4) Having decided on the Defi clusters, ensure that a minimal amount of 5% (at least) of the capital,\n",
    "<font color='white'>__</font>must be invested in the clusters selected.\n",
    "$$\\displaystyle 0.05 \\leq \\sum \\limits _{i \\in C} W_{i} \\leq 0.3\\text{ , where }C \\in Clusters$$\n",
    ">>><p>&emsp;(5) Some Defi if need be may not be invested in, this means, the lower bounds for the weights could be 0.\n",
    "$$\\displaystyle 0 \\leq W_{i} \\leq 1\\text{ , where }i \\in Defi$$\n",
    ">>><p>&emsp;(6) Ensure a fully invested portfolio, where the entire capital is invested in the Defi of the portfolio.\n",
    "$$\\displaystyle \\sum \\limits _{i=1} ^{N=10} W_{i} = 1$$\n",
    "    \n",
    ">___4. Key metric to use for strategy evaluation:___\n",
    ">><p><font color='green'>- Sharpe Ratio</font>\n",
    ">><p><font color='green'>- Skewness</font>\n",
    ">><p><font color='green'>- Kurtosis</font>\n",
    ">><p><font color='green'>- Probabilistic Sharpe Ratio</font>"
   ]
  },
  {
   "cell_type": "markdown",
   "metadata": {},
   "source": [
    "# <font color='blue'>Part B – Technical :</font>"
   ]
  },
  {
   "cell_type": "markdown",
   "metadata": {},
   "source": [
    "##  <font color='red'>Libraries :</font>"
   ]
  },
  {
   "cell_type": "code",
   "execution_count": 2,
   "metadata": {},
   "outputs": [],
   "source": [
    "import pandas as pd \n",
    "import numpy as np \n",
    "import matplotlib.pyplot as plt\n",
    "%matplotlib inline\n",
    "plt.rcParams[\"figure.figsize\"] = (16, 8)\n",
    "plt.ioff()\n",
    "import seaborn as sns\n",
    "import requests\n",
    "import json\n",
    "import cloudscraper\n",
    "from datetime import datetime,timedelta\n",
    "from sklearn.cluster import KMeans \n",
    "from sklearn.impute import KNNImputer\n",
    "import itertools\n",
    "from scipy import optimize \n",
    "from functools import reduce\n",
    "from scipy import stats as scipy_stats\n",
    "\n",
    "\n",
    "today_date = datetime(2022,10,15,0,0)\n",
    "#today_date = datetime.today().replace(hour=0, minute=0, second=0, microsecond=0)"
   ]
  },
  {
   "cell_type": "markdown",
   "metadata": {},
   "source": [
    "##  <font color='red'>Data Scraping :</font>"
   ]
  },
  {
   "cell_type": "markdown",
   "metadata": {},
   "source": [
    "<div class=\"alert alert-block alert-info\">\n",
    "Getting The 50 largest Defi in terms of Market Cap\n",
    "</div>"
   ]
  },
  {
   "cell_type": "code",
   "execution_count": 3,
   "metadata": {},
   "outputs": [],
   "source": [
    "# The web site used : crypto.com\n",
    "\n",
    "scraper = cloudscraper.create_scraper(\n",
    "    browser={\n",
    "        'browser': 'firefox',\n",
    "        'platform': 'windows',\n",
    "        'mobile': False\n",
    "    }\n",
    ")\n",
    "\n",
    "defi_list_req = scraper.get('https://price-api.crypto.com/price/v1/tokens',\n",
    "                 params = {\n",
    "                     \"page\":1,\n",
    "                     \"limit\":50,\n",
    "                     \"tags\":\"defi\"\n",
    "                 }   \n",
    "                )\n",
    "defi_list = json.loads(defi_list_req.content.decode())\n",
    "defi_list = [[d['id'],d['name'],d['symbol']] for d in defi_list['data']]"
   ]
  },
  {
   "cell_type": "code",
   "execution_count": 4,
   "metadata": {},
   "outputs": [
    {
     "data": {
      "text/plain": [
       "[[4943, 'Dai', 'DAI'],\n",
       " [3717, 'Wrapped Bitcoin', 'WBTC'],\n",
       " [5805, 'Avalanche', 'AVAX'],\n",
       " [7083, 'Uniswap', 'UNI'],\n",
       " [1975, 'Chainlink', 'LINK']]"
      ]
     },
     "execution_count": 4,
     "metadata": {},
     "output_type": "execute_result"
    }
   ],
   "source": [
    "defi_list[:5]"
   ]
  },
  {
   "cell_type": "markdown",
   "metadata": {},
   "source": [
    "<div class=\"alert alert-block alert-info\">\n",
    "<p>Getting Market data of all Defi selected\n",
    "<p>We only keep Defi that started before 2021\n",
    "</div>"
   ]
  },
  {
   "cell_type": "code",
   "execution_count": 5,
   "metadata": {},
   "outputs": [],
   "source": [
    "# The web site used : coinmarketcap.com\n",
    "\n",
    "data_history = {} \n",
    "for id_,name,symbol in defi_list:\n",
    "    defi_req = requests.get(\"https://api.coinmarketcap.com/data-api/v3/cryptocurrency/detail/chart\",\n",
    "                     params = {\n",
    "                         \"id\":f\"{id_}\",\n",
    "                         \"range\":\"ALL\"\n",
    "                     }\n",
    "                    ) \n",
    "\n",
    "    defi_data = json.loads(defi_req.content.decode())\n",
    "    prices = {datetime.fromtimestamp(int(item[0])).strftime(\"%d/%m/%Y\") : item[1]['v'][0] for item in defi_data['data']['points'].items()}\n",
    "    if int(list(prices.keys())[0][-4:])<2021:\n",
    "        data_history[name] = prices"
   ]
  },
  {
   "cell_type": "markdown",
   "metadata": {},
   "source": [
    "<p><strong><em>Looking for the youngest project in the list.\n",
    "<p><strong><em>Our starting date will be the date of the youngest project."
   ]
  },
  {
   "cell_type": "code",
   "execution_count": 6,
   "metadata": {},
   "outputs": [
    {
     "name": "stdout",
     "output_type": "stream",
     "text": [
      "The number of Defi : 42\n",
      "- The youngest project is \"Reef\" : 29/12/2020\n",
      "- The number of days that will be stadied : 655 days\n"
     ]
    }
   ],
   "source": [
    "defi_start_date = {item[0]:list(item[1].keys())[0] for item in data_history.items()}\n",
    "max_minDates = max([(datetime.strptime(t[1], '%d/%m/%Y'),t[0]) for t in defi_start_date.items()])\n",
    "delta_time = (today_date-max_minDates[0]).days\n",
    "print(f'The number of Defi : {len(data_history)}')\n",
    "print(f'- The youngest project is \"{max_minDates[1]}\" : {max_minDates[0].strftime(\"%d/%m/%Y\")}')\n",
    "print(f'- The number of days that will be stadied : {delta_time} days')      "
   ]
  },
  {
   "cell_type": "markdown",
   "metadata": {},
   "source": [
    "## <font color='red'>Data Preparation: </font>"
   ]
  },
  {
   "cell_type": "markdown",
   "metadata": {},
   "source": [
    "<div class=\"alert alert-block alert-info\">\n",
    "Creating the price dataframe :\n",
    "</div>"
   ]
  },
  {
   "cell_type": "code",
   "execution_count": 7,
   "metadata": {},
   "outputs": [],
   "source": [
    "# List of Dates\n",
    "dates = [(max_minDates[0]+timedelta(days=i)).strftime(\"%d/%m/%Y\") for i in range(delta_time+1)] "
   ]
  },
  {
   "cell_type": "code",
   "execution_count": 8,
   "metadata": {},
   "outputs": [],
   "source": [
    "df = pd.DataFrame({defi:[data_history[defi][d] if d in data_history[defi].keys() else np.nan for d in dates] for defi in data_history.keys()})"
   ]
  },
  {
   "cell_type": "markdown",
   "metadata": {},
   "source": [
    "___To solve the problem of missing data I used a knn imputer with a neighborhood of 3___"
   ]
  },
  {
   "cell_type": "code",
   "execution_count": 9,
   "metadata": {},
   "outputs": [
    {
     "name": "stdout",
     "output_type": "stream",
     "text": [
      "The Final Dataset : \n"
     ]
    },
    {
     "data": {
      "text/html": [
       "<div>\n",
       "<style scoped>\n",
       "    .dataframe tbody tr th:only-of-type {\n",
       "        vertical-align: middle;\n",
       "    }\n",
       "\n",
       "    .dataframe tbody tr th {\n",
       "        vertical-align: top;\n",
       "    }\n",
       "\n",
       "    .dataframe thead th {\n",
       "        text-align: right;\n",
       "    }\n",
       "</style>\n",
       "<table border=\"1\" class=\"dataframe\">\n",
       "  <thead>\n",
       "    <tr style=\"text-align: right;\">\n",
       "      <th></th>\n",
       "      <th>Dai</th>\n",
       "      <th>Wrapped Bitcoin</th>\n",
       "      <th>Avalanche</th>\n",
       "      <th>Uniswap</th>\n",
       "      <th>Chainlink</th>\n",
       "      <th>Luna Classic</th>\n",
       "      <th>Frax</th>\n",
       "      <th>Tezos</th>\n",
       "      <th>Aave</th>\n",
       "      <th>Maker</th>\n",
       "      <th>...</th>\n",
       "      <th>0x</th>\n",
       "      <th>Serum</th>\n",
       "      <th>SushiSwap</th>\n",
       "      <th>SXP</th>\n",
       "      <th>UMA</th>\n",
       "      <th>Secret</th>\n",
       "      <th>Injective</th>\n",
       "      <th>Reef</th>\n",
       "      <th>Ren</th>\n",
       "      <th>Keep Network</th>\n",
       "    </tr>\n",
       "  </thead>\n",
       "  <tbody>\n",
       "    <tr>\n",
       "      <th>29/12/2020</th>\n",
       "      <td>1.000514</td>\n",
       "      <td>42998.331575</td>\n",
       "      <td>2.947437</td>\n",
       "      <td>3.727547</td>\n",
       "      <td>14.779974</td>\n",
       "      <td>0.502635</td>\n",
       "      <td>1.011288</td>\n",
       "      <td>2.119271</td>\n",
       "      <td>81.866601</td>\n",
       "      <td>958.794111</td>\n",
       "      <td>...</td>\n",
       "      <td>0.376773</td>\n",
       "      <td>1.015460</td>\n",
       "      <td>2.618241</td>\n",
       "      <td>0.673067</td>\n",
       "      <td>7.950318</td>\n",
       "      <td>0.621213</td>\n",
       "      <td>4.751879</td>\n",
       "      <td>0.027918</td>\n",
       "      <td>0.335007</td>\n",
       "      <td>0.209005</td>\n",
       "    </tr>\n",
       "    <tr>\n",
       "      <th>30/12/2020</th>\n",
       "      <td>1.003244</td>\n",
       "      <td>27180.790621</td>\n",
       "      <td>37.127212</td>\n",
       "      <td>7.112121</td>\n",
       "      <td>11.767861</td>\n",
       "      <td>0.648026</td>\n",
       "      <td>1.015077</td>\n",
       "      <td>2.541342</td>\n",
       "      <td>77.906158</td>\n",
       "      <td>1286.641484</td>\n",
       "      <td>...</td>\n",
       "      <td>0.763930</td>\n",
       "      <td>1.078194</td>\n",
       "      <td>2.510549</td>\n",
       "      <td>1.345140</td>\n",
       "      <td>7.994772</td>\n",
       "      <td>0.628436</td>\n",
       "      <td>4.311999</td>\n",
       "      <td>0.023483</td>\n",
       "      <td>0.302465</td>\n",
       "      <td>0.201156</td>\n",
       "    </tr>\n",
       "    <tr>\n",
       "      <th>31/12/2020</th>\n",
       "      <td>1.003347</td>\n",
       "      <td>20987.841841</td>\n",
       "      <td>2.922048</td>\n",
       "      <td>4.137221</td>\n",
       "      <td>6.711781</td>\n",
       "      <td>0.220670</td>\n",
       "      <td>1.002194</td>\n",
       "      <td>1.716929</td>\n",
       "      <td>80.855245</td>\n",
       "      <td>576.062782</td>\n",
       "      <td>...</td>\n",
       "      <td>0.359617</td>\n",
       "      <td>0.966790</td>\n",
       "      <td>2.597565</td>\n",
       "      <td>0.677185</td>\n",
       "      <td>7.861625</td>\n",
       "      <td>0.647885</td>\n",
       "      <td>3.871555</td>\n",
       "      <td>0.011383</td>\n",
       "      <td>0.137077</td>\n",
       "      <td>0.198231</td>\n",
       "    </tr>\n",
       "    <tr>\n",
       "      <th>01/01/2021</th>\n",
       "      <td>0.999707</td>\n",
       "      <td>28963.726548</td>\n",
       "      <td>3.153535</td>\n",
       "      <td>5.166861</td>\n",
       "      <td>9.814491</td>\n",
       "      <td>0.652896</td>\n",
       "      <td>0.995344</td>\n",
       "      <td>2.014092</td>\n",
       "      <td>87.543306</td>\n",
       "      <td>1286.641484</td>\n",
       "      <td>...</td>\n",
       "      <td>0.563618</td>\n",
       "      <td>1.039962</td>\n",
       "      <td>2.863348</td>\n",
       "      <td>0.860651</td>\n",
       "      <td>7.639793</td>\n",
       "      <td>0.614641</td>\n",
       "      <td>4.065262</td>\n",
       "      <td>0.013707</td>\n",
       "      <td>0.321546</td>\n",
       "      <td>0.187890</td>\n",
       "    </tr>\n",
       "    <tr>\n",
       "      <th>02/01/2021</th>\n",
       "      <td>1.004501</td>\n",
       "      <td>42998.331575</td>\n",
       "      <td>3.662164</td>\n",
       "      <td>4.734603</td>\n",
       "      <td>11.873410</td>\n",
       "      <td>0.502635</td>\n",
       "      <td>1.011849</td>\n",
       "      <td>2.561230</td>\n",
       "      <td>94.405952</td>\n",
       "      <td>1879.899959</td>\n",
       "      <td>...</td>\n",
       "      <td>0.439113</td>\n",
       "      <td>1.133318</td>\n",
       "      <td>3.330878</td>\n",
       "      <td>0.716766</td>\n",
       "      <td>7.926068</td>\n",
       "      <td>0.632922</td>\n",
       "      <td>4.079060</td>\n",
       "      <td>0.012195</td>\n",
       "      <td>0.707198</td>\n",
       "      <td>0.209686</td>\n",
       "    </tr>\n",
       "  </tbody>\n",
       "</table>\n",
       "<p>5 rows × 42 columns</p>\n",
       "</div>"
      ],
      "text/plain": [
       "                 Dai  Wrapped Bitcoin  Avalanche   Uniswap  Chainlink  \\\n",
       "29/12/2020  1.000514     42998.331575   2.947437  3.727547  14.779974   \n",
       "30/12/2020  1.003244     27180.790621  37.127212  7.112121  11.767861   \n",
       "31/12/2020  1.003347     20987.841841   2.922048  4.137221   6.711781   \n",
       "01/01/2021  0.999707     28963.726548   3.153535  5.166861   9.814491   \n",
       "02/01/2021  1.004501     42998.331575   3.662164  4.734603  11.873410   \n",
       "\n",
       "            Luna Classic      Frax     Tezos       Aave        Maker  ...  \\\n",
       "29/12/2020      0.502635  1.011288  2.119271  81.866601   958.794111  ...   \n",
       "30/12/2020      0.648026  1.015077  2.541342  77.906158  1286.641484  ...   \n",
       "31/12/2020      0.220670  1.002194  1.716929  80.855245   576.062782  ...   \n",
       "01/01/2021      0.652896  0.995344  2.014092  87.543306  1286.641484  ...   \n",
       "02/01/2021      0.502635  1.011849  2.561230  94.405952  1879.899959  ...   \n",
       "\n",
       "                  0x     Serum  SushiSwap       SXP       UMA    Secret  \\\n",
       "29/12/2020  0.376773  1.015460   2.618241  0.673067  7.950318  0.621213   \n",
       "30/12/2020  0.763930  1.078194   2.510549  1.345140  7.994772  0.628436   \n",
       "31/12/2020  0.359617  0.966790   2.597565  0.677185  7.861625  0.647885   \n",
       "01/01/2021  0.563618  1.039962   2.863348  0.860651  7.639793  0.614641   \n",
       "02/01/2021  0.439113  1.133318   3.330878  0.716766  7.926068  0.632922   \n",
       "\n",
       "            Injective      Reef       Ren  Keep Network  \n",
       "29/12/2020   4.751879  0.027918  0.335007      0.209005  \n",
       "30/12/2020   4.311999  0.023483  0.302465      0.201156  \n",
       "31/12/2020   3.871555  0.011383  0.137077      0.198231  \n",
       "01/01/2021   4.065262  0.013707  0.321546      0.187890  \n",
       "02/01/2021   4.079060  0.012195  0.707198      0.209686  \n",
       "\n",
       "[5 rows x 42 columns]"
      ]
     },
     "execution_count": 9,
     "metadata": {},
     "output_type": "execute_result"
    }
   ],
   "source": [
    "imputer = KNNImputer(n_neighbors=3)\n",
    "df= pd.DataFrame(imputer.fit_transform(df),columns=df.columns,index=dates)\n",
    "print('The Final Dataset : ')\n",
    "df.head()"
   ]
  },
  {
   "cell_type": "markdown",
   "metadata": {},
   "source": [
    "<div class=\"alert alert-block alert-info\">\n",
    "Defi returns computing :\n",
    "</div>"
   ]
  },
  {
   "cell_type": "code",
   "execution_count": 10,
   "metadata": {},
   "outputs": [],
   "source": [
    "#store defi prices as an array\n",
    "arDefiPrices = np.asarray(df)\n",
    "[rows, cols]= arDefiPrices.shape"
   ]
  },
  {
   "cell_type": "code",
   "execution_count": 11,
   "metadata": {},
   "outputs": [],
   "source": [
    "#function for Defi Returns computing \n",
    "def DefiReturnsComputing(DefiPrice, Rows, Columns):\n",
    "    \n",
    "    import numpy as np\n",
    "    \n",
    "    DefiReturn = np.zeros([Rows-1, Columns])\n",
    "    for j in range(Columns):  # j: Assets\n",
    "        for i in range(Rows-1):     #i: Daily Prices\n",
    "            DefiReturn[i,j]=((DefiPrice[i+1, j]-DefiPrice[i,j])/DefiPrice[i,j])\n",
    "\n",
    "    return DefiReturn"
   ]
  },
  {
   "cell_type": "code",
   "execution_count": 12,
   "metadata": {},
   "outputs": [
    {
     "name": "stdout",
     "output_type": "stream",
     "text": [
      "Size of the array of daily returns of defies:\n",
      " (655, 42)\n",
      "Array of daily returns of defies\n",
      " [[ 2.72851065e-03 -3.67864063e-01  1.15964406e+01 ... -1.58866550e-01\n",
      "  -9.71387486e-02 -3.75538290e-02]\n",
      " [ 1.02856339e-04 -2.27842849e-01 -9.21296336e-01 ... -5.15255679e-01\n",
      "  -5.46800769e-01 -1.45384937e-02]\n",
      " [-3.62763363e-03  3.80024052e-01  7.92210666e-02 ...  2.04186550e-01\n",
      "   1.34573594e+00 -5.21655679e-02]\n",
      " ...\n",
      " [-7.43873380e-04  5.98110933e-02  6.85886431e-04 ... -2.40958741e-02\n",
      "  -1.80992012e-01  4.82287363e-02]\n",
      " [ 4.11510639e-04 -3.98421011e-02 -1.82591859e-02 ...  5.54987296e-02\n",
      "   1.35001983e-01 -7.72662524e-02]\n",
      " [-1.67266032e-04  4.14953635e-02  7.25976589e-04 ...  5.40688721e-02\n",
      "  -1.27231649e-01 -1.55318400e-03]]\n"
     ]
    }
   ],
   "source": [
    "#compute daily returns of all defies in the mini universe\n",
    "arReturns = DefiReturnsComputing(arDefiPrices, rows, cols)\n",
    "print('Size of the array of daily returns of defies:\\n', arReturns.shape)\n",
    "print('Array of daily returns of defies\\n',  arReturns)"
   ]
  },
  {
   "cell_type": "code",
   "execution_count": 13,
   "metadata": {},
   "outputs": [
    {
     "data": {
      "text/html": [
       "<div>\n",
       "<style scoped>\n",
       "    .dataframe tbody tr th:only-of-type {\n",
       "        vertical-align: middle;\n",
       "    }\n",
       "\n",
       "    .dataframe tbody tr th {\n",
       "        vertical-align: top;\n",
       "    }\n",
       "\n",
       "    .dataframe thead th {\n",
       "        text-align: right;\n",
       "    }\n",
       "</style>\n",
       "<table border=\"1\" class=\"dataframe\">\n",
       "  <thead>\n",
       "    <tr style=\"text-align: right;\">\n",
       "      <th></th>\n",
       "      <th>Dai</th>\n",
       "      <th>Wrapped Bitcoin</th>\n",
       "      <th>Avalanche</th>\n",
       "      <th>Uniswap</th>\n",
       "      <th>Chainlink</th>\n",
       "      <th>Luna Classic</th>\n",
       "      <th>Frax</th>\n",
       "      <th>Tezos</th>\n",
       "      <th>Aave</th>\n",
       "      <th>Maker</th>\n",
       "      <th>...</th>\n",
       "      <th>0x</th>\n",
       "      <th>Serum</th>\n",
       "      <th>SushiSwap</th>\n",
       "      <th>SXP</th>\n",
       "      <th>UMA</th>\n",
       "      <th>Secret</th>\n",
       "      <th>Injective</th>\n",
       "      <th>Reef</th>\n",
       "      <th>Ren</th>\n",
       "      <th>Keep Network</th>\n",
       "    </tr>\n",
       "  </thead>\n",
       "  <tbody>\n",
       "    <tr>\n",
       "      <th>30/12/2020</th>\n",
       "      <td>0.002729</td>\n",
       "      <td>-0.367864</td>\n",
       "      <td>11.596441</td>\n",
       "      <td>0.907990</td>\n",
       "      <td>-0.203797</td>\n",
       "      <td>0.289258</td>\n",
       "      <td>0.003746</td>\n",
       "      <td>0.199159</td>\n",
       "      <td>-0.048377</td>\n",
       "      <td>0.341937</td>\n",
       "      <td>...</td>\n",
       "      <td>1.027563</td>\n",
       "      <td>0.061779</td>\n",
       "      <td>-0.041131</td>\n",
       "      <td>0.998524</td>\n",
       "      <td>0.005592</td>\n",
       "      <td>0.011628</td>\n",
       "      <td>-0.092570</td>\n",
       "      <td>-0.158867</td>\n",
       "      <td>-0.097139</td>\n",
       "      <td>-0.037554</td>\n",
       "    </tr>\n",
       "    <tr>\n",
       "      <th>31/12/2020</th>\n",
       "      <td>0.000103</td>\n",
       "      <td>-0.227843</td>\n",
       "      <td>-0.921296</td>\n",
       "      <td>-0.418286</td>\n",
       "      <td>-0.429652</td>\n",
       "      <td>-0.659474</td>\n",
       "      <td>-0.012692</td>\n",
       "      <td>-0.324401</td>\n",
       "      <td>0.037854</td>\n",
       "      <td>-0.552274</td>\n",
       "      <td>...</td>\n",
       "      <td>-0.529254</td>\n",
       "      <td>-0.103324</td>\n",
       "      <td>0.034660</td>\n",
       "      <td>-0.496569</td>\n",
       "      <td>-0.016654</td>\n",
       "      <td>0.030949</td>\n",
       "      <td>-0.102144</td>\n",
       "      <td>-0.515256</td>\n",
       "      <td>-0.546801</td>\n",
       "      <td>-0.014538</td>\n",
       "    </tr>\n",
       "    <tr>\n",
       "      <th>01/01/2021</th>\n",
       "      <td>-0.003628</td>\n",
       "      <td>0.380024</td>\n",
       "      <td>0.079221</td>\n",
       "      <td>0.248872</td>\n",
       "      <td>0.462278</td>\n",
       "      <td>1.958705</td>\n",
       "      <td>-0.006835</td>\n",
       "      <td>0.173078</td>\n",
       "      <td>0.082716</td>\n",
       "      <td>1.233509</td>\n",
       "      <td>...</td>\n",
       "      <td>0.567272</td>\n",
       "      <td>0.075685</td>\n",
       "      <td>0.102320</td>\n",
       "      <td>0.270924</td>\n",
       "      <td>-0.028217</td>\n",
       "      <td>-0.051313</td>\n",
       "      <td>0.050033</td>\n",
       "      <td>0.204187</td>\n",
       "      <td>1.345736</td>\n",
       "      <td>-0.052166</td>\n",
       "    </tr>\n",
       "    <tr>\n",
       "      <th>02/01/2021</th>\n",
       "      <td>0.004795</td>\n",
       "      <td>0.484558</td>\n",
       "      <td>0.161288</td>\n",
       "      <td>-0.083660</td>\n",
       "      <td>0.209784</td>\n",
       "      <td>-0.230146</td>\n",
       "      <td>0.016582</td>\n",
       "      <td>0.271655</td>\n",
       "      <td>0.078391</td>\n",
       "      <td>0.461091</td>\n",
       "      <td>...</td>\n",
       "      <td>-0.220902</td>\n",
       "      <td>0.089768</td>\n",
       "      <td>0.163281</td>\n",
       "      <td>-0.167181</td>\n",
       "      <td>0.037472</td>\n",
       "      <td>0.029743</td>\n",
       "      <td>0.003394</td>\n",
       "      <td>-0.110305</td>\n",
       "      <td>1.199368</td>\n",
       "      <td>0.116004</td>\n",
       "    </tr>\n",
       "    <tr>\n",
       "      <th>03/01/2021</th>\n",
       "      <td>-0.003531</td>\n",
       "      <td>-0.252296</td>\n",
       "      <td>-0.045840</td>\n",
       "      <td>0.023667</td>\n",
       "      <td>-0.455276</td>\n",
       "      <td>0.256560</td>\n",
       "      <td>-0.001300</td>\n",
       "      <td>-0.039383</td>\n",
       "      <td>-0.092081</td>\n",
       "      <td>-0.675826</td>\n",
       "      <td>...</td>\n",
       "      <td>-0.179281</td>\n",
       "      <td>-0.066759</td>\n",
       "      <td>-0.040175</td>\n",
       "      <td>0.040459</td>\n",
       "      <td>-0.399349</td>\n",
       "      <td>-0.045700</td>\n",
       "      <td>-0.116824</td>\n",
       "      <td>-0.072431</td>\n",
       "      <td>-0.558392</td>\n",
       "      <td>-0.136963</td>\n",
       "    </tr>\n",
       "  </tbody>\n",
       "</table>\n",
       "<p>5 rows × 42 columns</p>\n",
       "</div>"
      ],
      "text/plain": [
       "                 Dai  Wrapped Bitcoin  Avalanche   Uniswap  Chainlink  \\\n",
       "30/12/2020  0.002729        -0.367864  11.596441  0.907990  -0.203797   \n",
       "31/12/2020  0.000103        -0.227843  -0.921296 -0.418286  -0.429652   \n",
       "01/01/2021 -0.003628         0.380024   0.079221  0.248872   0.462278   \n",
       "02/01/2021  0.004795         0.484558   0.161288 -0.083660   0.209784   \n",
       "03/01/2021 -0.003531        -0.252296  -0.045840  0.023667  -0.455276   \n",
       "\n",
       "            Luna Classic      Frax     Tezos      Aave     Maker  ...  \\\n",
       "30/12/2020      0.289258  0.003746  0.199159 -0.048377  0.341937  ...   \n",
       "31/12/2020     -0.659474 -0.012692 -0.324401  0.037854 -0.552274  ...   \n",
       "01/01/2021      1.958705 -0.006835  0.173078  0.082716  1.233509  ...   \n",
       "02/01/2021     -0.230146  0.016582  0.271655  0.078391  0.461091  ...   \n",
       "03/01/2021      0.256560 -0.001300 -0.039383 -0.092081 -0.675826  ...   \n",
       "\n",
       "                  0x     Serum  SushiSwap       SXP       UMA    Secret  \\\n",
       "30/12/2020  1.027563  0.061779  -0.041131  0.998524  0.005592  0.011628   \n",
       "31/12/2020 -0.529254 -0.103324   0.034660 -0.496569 -0.016654  0.030949   \n",
       "01/01/2021  0.567272  0.075685   0.102320  0.270924 -0.028217 -0.051313   \n",
       "02/01/2021 -0.220902  0.089768   0.163281 -0.167181  0.037472  0.029743   \n",
       "03/01/2021 -0.179281 -0.066759  -0.040175  0.040459 -0.399349 -0.045700   \n",
       "\n",
       "            Injective      Reef       Ren  Keep Network  \n",
       "30/12/2020  -0.092570 -0.158867 -0.097139     -0.037554  \n",
       "31/12/2020  -0.102144 -0.515256 -0.546801     -0.014538  \n",
       "01/01/2021   0.050033  0.204187  1.345736     -0.052166  \n",
       "02/01/2021   0.003394 -0.110305  1.199368      0.116004  \n",
       "03/01/2021  -0.116824 -0.072431 -0.558392     -0.136963  \n",
       "\n",
       "[5 rows x 42 columns]"
      ]
     },
     "execution_count": 13,
     "metadata": {},
     "output_type": "execute_result"
    }
   ],
   "source": [
    "# Create Defi returns dataframe\n",
    "df_returns = pd.DataFrame(arReturns,index=df.index[1:],columns=df.columns)\n",
    "df_returns.head()"
   ]
  },
  {
   "cell_type": "markdown",
   "metadata": {},
   "source": [
    "## <font color='red'>Equal Weight Defi Index : \n",
    "\n",
    "_I will use this index at the end of this study to build a second strategy identical to the one explained a little above with the only condition of not investing and selling everything when this index is below its 60-day simple moving average and reinvesting when the index goes above this moving average._"
   ]
  },
  {
   "cell_type": "code",
   "execution_count": 14,
   "metadata": {},
   "outputs": [],
   "source": [
    "equal_weight_index = {}\n",
    "weight = 1/df_returns.shape[1]\n",
    "for day in df_returns.index:\n",
    "    day_index = list(df_returns.index).index(day)\n",
    "    index_value = 0\n",
    "    for defi in df_returns.columns:\n",
    "        index_value+=weight*reduce(lambda x, y: x*y, (1+df_returns.iloc[:day_index+1])[defi])\n",
    "    equal_weight_index[day] = index_value\n",
    "        \n",
    "equal_weight_index = pd.DataFrame({'indexDefi':equal_weight_index.values()},index=equal_weight_index.keys())"
   ]
  },
  {
   "cell_type": "code",
   "execution_count": 15,
   "metadata": {},
   "outputs": [],
   "source": [
    "# Condition to buy : index above 60 sma\n",
    "rolling_window = 60\n",
    "sma60 = equal_weight_index.copy('deep')\n",
    "for defi in sma60.columns:\n",
    "    sma60[defi] = equal_weight_index[defi].rolling(rolling_window).mean()\n",
    "sma60.dropna(inplace=True)\n",
    "sma60 = pd.concat([equal_weight_index[:rolling_window-1]*0,sma60])"
   ]
  },
  {
   "cell_type": "code",
   "execution_count": 16,
   "metadata": {},
   "outputs": [
    {
     "data": {
      "image/png": "[encoded data removed]",
      "text/plain": [
       "<Figure size 1152x576 with 1 Axes>"
      ]
     },
     "metadata": {
      "needs_background": "light"
     },
     "output_type": "display_data"
    }
   ],
   "source": [
    "plt.plot(equal_weight_index.indexDefi.values,label=\"Defi Equal Weight Index\")\n",
    "plt.plot(sma60.indexDefi.values,label=\"60-day SMA\")\n",
    "plt.legend(loc=\"upper left\")\n",
    "plt.title('Defi Equal Weight Index')\n",
    "plt.show()"
   ]
  },
  {
   "cell_type": "markdown",
   "metadata": {},
   "source": [
    "## <font color='red'>Defi Clustering: "
   ]
  },
  {
   "cell_type": "markdown",
   "metadata": {},
   "source": [
    "#### Step 1: Compute mean returns and variance-covariance matrix of returns\n",
    "\n",
    "meanReturns and covReturns store the outputs of the respective computations."
   ]
  },
  {
   "cell_type": "code",
   "execution_count": 17,
   "metadata": {},
   "outputs": [
    {
     "name": "stdout",
     "output_type": "stream",
     "text": [
      "Mean returns:\n",
      " [-3.15938859e-07  9.20579516e-03  5.46706192e-02  6.86558085e-03\n",
      "  1.83384649e-02  9.22158807e+01  6.49639114e-06  1.98275753e-02\n",
      "  3.50557083e-03  2.16334895e-02  1.38938509e-04  4.27453194e-02\n",
      "  7.17955848e-04  3.24469348e-02  6.20177616e-01  4.59301918e-02\n",
      "  1.02810431e-02  3.63192023e-02  7.60096627e-03  1.91013577e-02\n",
      "  1.67257475e-03  1.10186130e-01  5.04508160e-03  2.49413926e-03\n",
      "  5.79445597e-02  3.84547437e-03  3.55824838e-03  1.36781712e-01\n",
      "  4.05845951e-02  1.14661144e-02  1.29019372e-01  6.64889877e-03\n",
      "  2.38529399e-02  7.45895457e-03  6.79729332e-03  1.54295137e-02\n",
      "  9.46823665e-03  1.51119366e-02  3.35883674e-03  8.85659179e-04\n",
      "  3.45374395e-02  1.25734528e-02]\n",
      "Size of Variance-Covariance matrix of returns:\n",
      " (42, 42)\n",
      "Variance-Covariance matrix of returns:\n",
      " [[ 0.      -0.       0.00006 ...  0.00001  0.00004  0.00001]\n",
      " [-0.       0.02146 -0.00259 ...  0.00157  0.01036  0.00215]\n",
      " [ 0.00006 -0.00259  0.3866  ... -0.00051 -0.00766  0.00039]\n",
      " ...\n",
      " [ 0.00001  0.00157 -0.00051 ...  0.00614  0.00333  0.00305]\n",
      " [ 0.00004  0.01036 -0.00766 ...  0.00333  0.08449  0.00564]\n",
      " [ 0.00001  0.00215  0.00039 ...  0.00305  0.00564  0.02948]]\n"
     ]
    }
   ],
   "source": [
    "#compute mean returns and variance covariance matrix of returns\n",
    "meanReturns = np.mean(arReturns, axis = 0)\n",
    "print('Mean returns:\\n', meanReturns)\n",
    "covReturns = np.cov(arReturns, rowvar=False)\n",
    "#set precision for printing results\n",
    "np.set_printoptions(precision=5, suppress = True)\n",
    "print('Size of Variance-Covariance matrix of returns:\\n', covReturns.shape)\n",
    "print('Variance-Covariance matrix of returns:\\n', covReturns)"
   ]
  },
  {
   "cell_type": "markdown",
   "metadata": {},
   "source": [
    "#### Step 2: Prepare parameters for k-means clustering\n",
    "\n",
    "Every Defi Ai  is characterized by its mean return and the variance-covariance vector of its returns with those of other assets  Aj . For i = j, it would indicate its own variance of returns. Thus the characteristic vector for asset  Ai  is given by  [μi,σi1,σi2,...σii,...σiN)] , where  μi  indicates the mean return of asset  Ai  and  σi1,σi2,...σii,...σiN  are the variance and covariance of its returns with other assets. It can be seen that  [σi1,σi2,...σii,...σiN]  is nothing but row  i  of the variance-covariance matrix  V  of  N  assets in the stock universe.  σii  which is the variance of the asset return, is the diagonal element of matrix  V  in row i.\n",
    "\n",
    "The following Python code shows the gathering of parameters for each of the 43 assets in the Defi universe. The parameters are to be provided as inputs to the k-means clustering method."
   ]
  },
  {
   "cell_type": "code",
   "execution_count": 18,
   "metadata": {},
   "outputs": [
    {
     "name": "stdout",
     "output_type": "stream",
     "text": [
      "Size of the asset parameters for clustering:\n",
      " (42, 43)\n",
      "Asset parameters for clustering:\n",
      " [[-0.       0.      -0.      ...  0.00001  0.00004  0.00001]\n",
      " [ 0.00921 -0.       0.02146 ...  0.00157  0.01036  0.00215]\n",
      " [ 0.05467  0.00006 -0.00259 ... -0.00051 -0.00766  0.00039]\n",
      " ...\n",
      " [ 0.00089  0.00001  0.00157 ...  0.00614  0.00333  0.00305]\n",
      " [ 0.03454  0.00004  0.01036 ...  0.00333  0.08449  0.00564]\n",
      " [ 0.01257  0.00001  0.00215 ...  0.00305  0.00564  0.02948]]\n"
     ]
    }
   ],
   "source": [
    "#prepare asset parameters for k-means clustering\n",
    "#reshape for concatenation\n",
    "meanReturns = meanReturns.reshape(len(meanReturns),1)\n",
    "assetParameters = np.concatenate([meanReturns, covReturns], axis = 1)\n",
    "print('Size of the asset parameters for clustering:\\n', assetParameters.shape)\n",
    "print('Asset parameters for clustering:\\n', assetParameters)"
   ]
  },
  {
   "cell_type": "markdown",
   "metadata": {},
   "source": [
    "#### Step 3: Group the assets into clusters using k-means clustering where k =10, which is the portfolio size.\n",
    "\n",
    "The Python code shows the invocation of the function KMeans from the scikit-learn library."
   ]
  },
  {
   "cell_type": "code",
   "execution_count": 19,
   "metadata": {},
   "outputs": [
    {
     "name": "stdout",
     "output_type": "stream",
     "text": [
      "Clustering of assets completed!\n"
     ]
    },
    {
     "name": "stderr",
     "output_type": "stream",
     "text": [
      "c:\\Users\\Mouad Bouaida\\Anaconda3\\envs\\py39\\lib\\site-packages\\sklearn\\cluster\\_kmeans.py:1318: FutureWarning: algorithm='auto' is deprecated, it will be removed in 1.3. Using 'lloyd' instead.\n",
      "  warnings.warn(\n"
     ]
    },
    {
     "name": "stdout",
     "output_type": "stream",
     "text": [
      "Centroids:\n",
      " [[      0.01876       0.00002       0.00507       0.00576       0.00442\n",
      "        0.0146      -18.07317       0.00003       0.00132       0.00235\n",
      "        0.01337       0.00009       0.00825       0.00256       0.00533\n",
      "        0.04679       0.00511       0.00255       0.00203       0.00566\n",
      "        0.00505       0.00231       0.00428       0.00155       0.00243\n",
      "        0.00414       0.00283       0.00178       0.00652       0.00959\n",
      "        0.00244       0.00819       0.00189       0.00795       0.00383\n",
      "        0.00223       0.0108        0.00185       0.00018       0.00226\n",
      "        0.00266       0.02294       0.00278]\n",
      " [     92.21588       0.01726      -1.42153      -7.1314       -2.02915\n",
      "      -19.93617 5526094.67352      -0.03325      -2.58519       1.92379\n",
      "      -18.44876       0.03577      -6.36281      -2.74742      -8.38858\n",
      "      -55.65677      -5.23157      -4.07615      -5.61733      -1.00558\n",
      "        3.62384      -0.41623     -11.31044      51.49929      -1.93591\n",
      "        3.31345     -16.48842      -5.31327     -31.32348      -6.77641\n",
      "        1.17922     -13.3497       -0.57629       1.66141      -2.92053\n",
      "       -2.4298      -17.725         0.0868       -4.91333       6.82045\n",
      "       -1.12909     -17.76752       7.23648]\n",
      " [      0.00532       0.            0.00284       0.00245       0.00326\n",
      "        0.003        -1.27268       0.00008       0.00485       0.00239\n",
      "        0.00149       0.00006       0.00853       0.00264       0.0038\n",
      "        0.0185        0.00381       0.00234       0.00169       0.00406\n",
      "        0.00288       0.0024        0.00583       0.00155       0.00249\n",
      "        0.00257       0.00163       0.00198       0.00793       0.00368\n",
      "        0.00174       0.00487       0.0039        0.00348       0.00398\n",
      "        0.00378       0.00237       0.00342       0.00212       0.00205\n",
      "        0.00249       0.00363       0.00248]\n",
      " [      0.00505       0.00002       0.00154      -0.00134       0.0026\n",
      "        0.00215      51.49929       0.00003       0.0033        0.00195\n",
      "        0.00107       0.00011      -0.00145       0.00143       0.00523\n",
      "       -0.00078       0.00084       0.00167       0.00358       0.00234\n",
      "        0.00293       0.00149       0.00605       0.01288       0.00114\n",
      "       -0.00067       0.00034       0.00132       0.00131       0.00073\n",
      "        0.00102       0.00453       0.00246       0.00295       0.00177\n",
      "        0.00153       0.00085       0.0018        0.0011        0.00132\n",
      "        0.00174       0.00335       0.00119]\n",
      " [      0.62018      -0.0002       -0.04967       0.49136       0.06452\n",
      "       -0.00614     -55.65677      -0.00009       0.01139       0.02376\n",
      "        0.04953      -0.00223      -0.01861       0.0233        0.04585\n",
      "       16.90729       0.16813       0.20202       0.0966        0.01114\n",
      "        0.13749       0.0086        0.09583      -0.00078       0.01111\n",
      "        0.43502      -0.00079      -0.00472      -0.25297       0.24847\n",
      "        0.0848        0.79969       0.01906       0.06326       0.01672\n",
      "        0.10352       0.12261       0.03887       0.05511      -0.03711\n",
      "        0.02152       0.06873       0.0104 ]\n",
      " [      0.03129       0.           -0.00032       0.05083       0.00537\n",
      "        0.00296      -5.97898       0.00012       0.00302       0.00353\n",
      "        0.00393       0.00001       0.07638       0.00494       0.00749\n",
      "        0.14269       0.02489       0.00999       0.01464       0.00572\n",
      "        0.00568       0.00331       0.00567       0.0013        0.0031\n",
      "        0.00831       0.00272       0.00353       0.04465       0.02477\n",
      "        0.00261       0.02441       0.00554       0.00728       0.00999\n",
      "        0.00331       0.00978       0.00329       0.01026       0.00389\n",
      "        0.00328       0.00316       0.00564]\n",
      " [      0.13678       0.00009       0.0022        0.09239       0.00375\n",
      "        0.00653     -31.32348       0.00016       0.01517       0.01463\n",
      "        0.00531      -0.00022       0.17296       0.00707      -0.00446\n",
      "       -0.25297       0.05424      -0.00371       0.02022       0.01479\n",
      "       -0.00755       0.00716      -0.01723       0.00131       0.00754\n",
      "        0.09308       0.00816       0.00624       0.66851       0.02457\n",
      "       -0.0008        0.20529       0.01068       0.01291       0.02817\n",
      "        0.00632       0.01287       0.01018       0.03941       0.01463\n",
      "        0.00595      -0.00028       0.02402]\n",
      " [      0.00797       0.00001       0.00184       0.0071        0.00314\n",
      "        0.00268       7.02846       0.00009       0.00058       0.00304\n",
      "        0.00091       0.00001       0.01289       0.00322      -0.00177\n",
      "       -0.01336       0.00737       0.00242       0.00164       0.00256\n",
      "        0.00321       0.00281       0.00094       0.00125       0.00248\n",
      "        0.00378       0.00172       0.00278       0.01933       0.00551\n",
      "        0.00183       0.01114       0.00276       0.00191       0.00477\n",
      "        0.0022        0.00332       0.00469       0.00496       0.00649\n",
      "        0.00279       0.00397       0.01607]\n",
      " [      0.1196       -0.00003       0.0062        0.04356       0.00964\n",
      "        0.00912     -12.33007       0.00075       0.02419       0.00828\n",
      "        0.00592      -0.00023       0.00117       0.00618       0.00065\n",
      "        0.44776       0.02032       0.01652       0.02062       0.00054\n",
      "        0.02227       0.00511       0.18009       0.00529       0.00579\n",
      "        0.06123       0.00405       0.00449       0.09403       0.01965\n",
      "        0.00597       0.31547       0.00146       0.01791       0.00636\n",
      "        0.0041        0.00528       0.00372       0.00838       0.00251\n",
      "        0.00649       0.00681       0.00957]\n",
      " [      0.02317       0.            0.00235       0.01238       0.00332\n",
      "        0.00619       2.34034       0.0001        0.00573       0.00412\n",
      "        0.00592       0.00001      -0.00051       0.0029        0.0037\n",
      "        0.14887       0.00822       0.00567       0.00313       0.0044\n",
      "        0.01374       0.00302       0.00678       0.00163       0.00274\n",
      "        0.03846       0.00162       0.00235       0.02246       0.00957\n",
      "        0.00741       0.03949       0.00317       0.01431       0.00338\n",
      "        0.00318       0.00309       0.00221       0.00481       0.00317\n",
      "        0.00266       0.00512       0.00233]]\n",
      "Labels:\n",
      " [2 2 5 2 0 1 2 2 9 0 2 5 2 5 4 5 5 5 2 9 2 8 3 2 9 0 5 6 5 9 8 2 9 2 2 0 2\n",
      " 5 7 2 0 7]\n"
     ]
    }
   ],
   "source": [
    "#kmeans clustering of assets using the characteristic vector of \n",
    "#mean return and variance-covariance vector of returns\n",
    "\n",
    "clusters = 10\n",
    "\n",
    "assetsCluster= KMeans(algorithm='auto',  max_iter=600, n_clusters=clusters, random_state=2)\n",
    "print('Clustering of assets completed!') \n",
    "assetsCluster.fit(assetParameters)\n",
    "centroids = assetsCluster.cluster_centers_\n",
    "labels = assetsCluster.labels_\n",
    "\n",
    "print('Centroids:\\n', centroids)\n",
    "print('Labels:\\n', labels)"
   ]
  },
  {
   "cell_type": "markdown",
   "metadata": {},
   "source": [
    "#### Step 4: Fix asset labels to points in each cluster"
   ]
  },
  {
   "cell_type": "code",
   "execution_count": 20,
   "metadata": {},
   "outputs": [
    {
     "name": "stdout",
     "output_type": "stream",
     "text": [
      "Defi in each of the clusters:\n",
      "\n",
      "Cluster 1\n",
      "['Chainlink' 'Maker' 'NXM' 'SXP' 'Ren']\n",
      "Cluster 2\n",
      "['Luna Classic']\n",
      "Cluster 3\n",
      "['Dai' 'Wrapped Bitcoin' 'Uniswap' 'Frax' 'Tezos' 'Neutrino USD'\n",
      " 'The Graph' 'Compound' '1inch Network' 'yearn.finance' 'Balancer' 'Serum'\n",
      " 'SushiSwap' 'UMA' 'Reef']\n",
      "Cluster 4\n",
      "['DeFiChain']\n",
      "Cluster 5\n",
      "['Fantom']\n",
      "Cluster 6\n",
      "['Avalanche' 'PancakeSwap' 'Synthetix' 'THORChain' 'Curve DAO Token'\n",
      " 'Basic Attention Token' 'Oasis Network' 'Reserve Rights' 'Secret']\n",
      "Cluster 7\n",
      "['Ankr']\n",
      "Cluster 8\n",
      "['Injective' 'Keep Network']\n",
      "Cluster 9\n",
      "['Loopring' 'Rocket Pool']\n",
      "Cluster 10\n",
      "['Aave' 'Kava' 'Gnosis' 'JUST' '0x']\n"
     ]
    }
   ],
   "source": [
    "#fixing asset labels to cluster points\n",
    "\n",
    "assetLabels = df.columns\n",
    "\n",
    "clusters_dict = {}\n",
    "\n",
    "print('Defi in each of the clusters:\\n',)\n",
    "assets = np.array(assetLabels)\n",
    "for i in range(clusters):\n",
    "    print('Cluster', i+1)\n",
    "    clt  = np.where(labels == i)\n",
    "    assetsCluster = assets[clt]\n",
    "    print(assetsCluster)\n",
    "    clusters_dict[i] = assetsCluster"
   ]
  },
  {
   "cell_type": "markdown",
   "metadata": {},
   "source": [
    "# <font color='red'>Momentum Calculation\n",
    "***\n",
    "$$Momentum =  \\displaystyle \\frac{sma_{60}(y) - sma_{30}(y)}{y}\\text{ , where }y = log(price)$$\n",
    "***"
   ]
  },
  {
   "cell_type": "code",
   "execution_count": 21,
   "metadata": {},
   "outputs": [],
   "source": [
    "def smaCrossMomentum(closes,slow_window=60,fast_window=30):\n",
    "    returns = np.log(closes)\n",
    "    slow_sma = returns.rolling(slow_window).mean()\n",
    "    fast_sma = returns.rolling(fast_window).mean()\n",
    "    return(((fast_sma-slow_sma)*100/returns).values)"
   ]
  },
  {
   "cell_type": "code",
   "execution_count": 22,
   "metadata": {},
   "outputs": [],
   "source": [
    "momentums = df.copy(deep=True)\n",
    "for defi in momentums.columns :\n",
    "        momentums[defi] = smaCrossMomentum(df[defi])"
   ]
  },
  {
   "cell_type": "code",
   "execution_count": 23,
   "metadata": {},
   "outputs": [
    {
     "data": {
      "text/html": [
       "<div>\n",
       "<style scoped>\n",
       "    .dataframe tbody tr th:only-of-type {\n",
       "        vertical-align: middle;\n",
       "    }\n",
       "\n",
       "    .dataframe tbody tr th {\n",
       "        vertical-align: top;\n",
       "    }\n",
       "\n",
       "    .dataframe thead th {\n",
       "        text-align: right;\n",
       "    }\n",
       "</style>\n",
       "<table border=\"1\" class=\"dataframe\">\n",
       "  <thead>\n",
       "    <tr style=\"text-align: right;\">\n",
       "      <th></th>\n",
       "      <th>Dai</th>\n",
       "      <th>Wrapped Bitcoin</th>\n",
       "      <th>Avalanche</th>\n",
       "      <th>Uniswap</th>\n",
       "      <th>Chainlink</th>\n",
       "      <th>Luna Classic</th>\n",
       "      <th>Frax</th>\n",
       "      <th>Tezos</th>\n",
       "      <th>Aave</th>\n",
       "      <th>Maker</th>\n",
       "      <th>...</th>\n",
       "      <th>0x</th>\n",
       "      <th>Serum</th>\n",
       "      <th>SushiSwap</th>\n",
       "      <th>SXP</th>\n",
       "      <th>UMA</th>\n",
       "      <th>Secret</th>\n",
       "      <th>Injective</th>\n",
       "      <th>Reef</th>\n",
       "      <th>Ren</th>\n",
       "      <th>Keep Network</th>\n",
       "    </tr>\n",
       "  </thead>\n",
       "  <tbody>\n",
       "    <tr>\n",
       "      <th>26/02/2021</th>\n",
       "      <td>4.445324</td>\n",
       "      <td>1.210322</td>\n",
       "      <td>16.757453</td>\n",
       "      <td>17.107183</td>\n",
       "      <td>8.289194</td>\n",
       "      <td>24.392142</td>\n",
       "      <td>10.587905</td>\n",
       "      <td>16.148262</td>\n",
       "      <td>9.408830</td>\n",
       "      <td>3.618136</td>\n",
       "      <td>...</td>\n",
       "      <td>107.013731</td>\n",
       "      <td>23.393784</td>\n",
       "      <td>20.394554</td>\n",
       "      <td>47.017521</td>\n",
       "      <td>14.340510</td>\n",
       "      <td>36.946682</td>\n",
       "      <td>15.749998</td>\n",
       "      <td>-12.012452</td>\n",
       "      <td>-140.332845</td>\n",
       "      <td>-17.101782</td>\n",
       "    </tr>\n",
       "    <tr>\n",
       "      <th>27/02/2021</th>\n",
       "      <td>7.297649</td>\n",
       "      <td>1.332237</td>\n",
       "      <td>16.680475</td>\n",
       "      <td>16.684087</td>\n",
       "      <td>8.219438</td>\n",
       "      <td>42.673815</td>\n",
       "      <td>45.274801</td>\n",
       "      <td>13.623345</td>\n",
       "      <td>9.164573</td>\n",
       "      <td>3.339085</td>\n",
       "      <td>...</td>\n",
       "      <td>347.879684</td>\n",
       "      <td>25.000186</td>\n",
       "      <td>19.787419</td>\n",
       "      <td>52.290021</td>\n",
       "      <td>16.127766</td>\n",
       "      <td>38.716669</td>\n",
       "      <td>15.829830</td>\n",
       "      <td>-12.334536</td>\n",
       "      <td>-276.086144</td>\n",
       "      <td>-14.866350</td>\n",
       "    </tr>\n",
       "    <tr>\n",
       "      <th>28/02/2021</th>\n",
       "      <td>8.712830</td>\n",
       "      <td>1.275035</td>\n",
       "      <td>17.678503</td>\n",
       "      <td>16.492914</td>\n",
       "      <td>7.681882</td>\n",
       "      <td>43.521506</td>\n",
       "      <td>-557.863284</td>\n",
       "      <td>14.357802</td>\n",
       "      <td>8.771335</td>\n",
       "      <td>3.320361</td>\n",
       "      <td>...</td>\n",
       "      <td>-2854.029893</td>\n",
       "      <td>27.111756</td>\n",
       "      <td>19.016585</td>\n",
       "      <td>47.781811</td>\n",
       "      <td>14.364684</td>\n",
       "      <td>40.792579</td>\n",
       "      <td>15.629820</td>\n",
       "      <td>-12.817036</td>\n",
       "      <td>410.502037</td>\n",
       "      <td>-14.572994</td>\n",
       "    </tr>\n",
       "    <tr>\n",
       "      <th>01/03/2021</th>\n",
       "      <td>12.486210</td>\n",
       "      <td>1.246071</td>\n",
       "      <td>17.768164</td>\n",
       "      <td>16.264372</td>\n",
       "      <td>7.395072</td>\n",
       "      <td>40.039667</td>\n",
       "      <td>-86.102200</td>\n",
       "      <td>12.097112</td>\n",
       "      <td>8.414935</td>\n",
       "      <td>3.154513</td>\n",
       "      <td>...</td>\n",
       "      <td>185.933244</td>\n",
       "      <td>27.302108</td>\n",
       "      <td>19.110738</td>\n",
       "      <td>51.257294</td>\n",
       "      <td>14.750665</td>\n",
       "      <td>45.113118</td>\n",
       "      <td>15.513031</td>\n",
       "      <td>-12.410344</td>\n",
       "      <td>-451.740793</td>\n",
       "      <td>-18.950575</td>\n",
       "    </tr>\n",
       "    <tr>\n",
       "      <th>02/03/2021</th>\n",
       "      <td>13.280259</td>\n",
       "      <td>1.163196</td>\n",
       "      <td>16.769179</td>\n",
       "      <td>15.029295</td>\n",
       "      <td>6.858029</td>\n",
       "      <td>35.875102</td>\n",
       "      <td>-77.700455</td>\n",
       "      <td>13.166355</td>\n",
       "      <td>7.958714</td>\n",
       "      <td>2.950344</td>\n",
       "      <td>...</td>\n",
       "      <td>254.585073</td>\n",
       "      <td>25.474816</td>\n",
       "      <td>17.268778</td>\n",
       "      <td>47.475617</td>\n",
       "      <td>14.588815</td>\n",
       "      <td>38.371636</td>\n",
       "      <td>14.558994</td>\n",
       "      <td>-12.900415</td>\n",
       "      <td>191.158136</td>\n",
       "      <td>-14.302905</td>\n",
       "    </tr>\n",
       "  </tbody>\n",
       "</table>\n",
       "<p>5 rows × 42 columns</p>\n",
       "</div>"
      ],
      "text/plain": [
       "                  Dai  Wrapped Bitcoin  Avalanche    Uniswap  Chainlink  \\\n",
       "26/02/2021   4.445324         1.210322  16.757453  17.107183   8.289194   \n",
       "27/02/2021   7.297649         1.332237  16.680475  16.684087   8.219438   \n",
       "28/02/2021   8.712830         1.275035  17.678503  16.492914   7.681882   \n",
       "01/03/2021  12.486210         1.246071  17.768164  16.264372   7.395072   \n",
       "02/03/2021  13.280259         1.163196  16.769179  15.029295   6.858029   \n",
       "\n",
       "            Luna Classic        Frax      Tezos      Aave     Maker  ...  \\\n",
       "26/02/2021     24.392142   10.587905  16.148262  9.408830  3.618136  ...   \n",
       "27/02/2021     42.673815   45.274801  13.623345  9.164573  3.339085  ...   \n",
       "28/02/2021     43.521506 -557.863284  14.357802  8.771335  3.320361  ...   \n",
       "01/03/2021     40.039667  -86.102200  12.097112  8.414935  3.154513  ...   \n",
       "02/03/2021     35.875102  -77.700455  13.166355  7.958714  2.950344  ...   \n",
       "\n",
       "                     0x      Serum  SushiSwap        SXP        UMA  \\\n",
       "26/02/2021   107.013731  23.393784  20.394554  47.017521  14.340510   \n",
       "27/02/2021   347.879684  25.000186  19.787419  52.290021  16.127766   \n",
       "28/02/2021 -2854.029893  27.111756  19.016585  47.781811  14.364684   \n",
       "01/03/2021   185.933244  27.302108  19.110738  51.257294  14.750665   \n",
       "02/03/2021   254.585073  25.474816  17.268778  47.475617  14.588815   \n",
       "\n",
       "               Secret  Injective       Reef         Ren  Keep Network  \n",
       "26/02/2021  36.946682  15.749998 -12.012452 -140.332845    -17.101782  \n",
       "27/02/2021  38.716669  15.829830 -12.334536 -276.086144    -14.866350  \n",
       "28/02/2021  40.792579  15.629820 -12.817036  410.502037    -14.572994  \n",
       "01/03/2021  45.113118  15.513031 -12.410344 -451.740793    -18.950575  \n",
       "02/03/2021  38.371636  14.558994 -12.900415  191.158136    -14.302905  \n",
       "\n",
       "[5 rows x 42 columns]"
      ]
     },
     "execution_count": 23,
     "metadata": {},
     "output_type": "execute_result"
    }
   ],
   "source": [
    "momentums.dropna(inplace=True)\n",
    "momentums.head()"
   ]
  },
  {
   "cell_type": "markdown",
   "metadata": {},
   "source": [
    "<div class=\"alert alert-block alert-info\">\n",
    "In this part I will find for each week (Thursday precisely) the list of the 10 most efficient Defi in terms of momentum while respecting the rules described in Part A related to the representativeness of each cluster in the portfolio.\n",
    "</div>"
   ]
  },
  {
   "cell_type": "code",
   "execution_count": 24,
   "metadata": {},
   "outputs": [],
   "source": [
    "week_momentum = {}\n",
    "bankruptcy_defi = {}\n",
    "\n",
    "# Get 10 defi with highest momentum at the end of each week\n",
    "for d in momentums.index:\n",
    "    ind = list(df_returns.index).index(d)\n",
    "    for defi in df_returns.columns:\n",
    "        # Check if a Defi fall of more than 90% in its value\n",
    "        if df_returns[defi].iloc[ind-6:ind+1].min() <= -0.9 and defi not in bankruptcy_defi:\n",
    "            try : bankruptcy_defi[defi] += [d]\n",
    "            except: bankruptcy_defi[defi] = [d]\n",
    "    \n",
    "    day_name = datetime.strptime(d, \"%d/%m/%Y\").strftime(\"%A\")\n",
    "    if day_name == 'Thursday':\n",
    "        # Defi with a momentum > 50 are not selected\n",
    "        k = momentums.loc[d][(abs(momentums.loc[d])<50)]\n",
    "        kk = pd.DataFrame({'momentum':k})\n",
    "        top_2_cluster = {}\n",
    "        for i in range(len(clusters_dict)):\n",
    "            top_2_cluster[i] = sorted([(kk.loc[v].momentum,v,i+1) for v in clusters_dict[i] if (v in kk.index) and (v not in bankruptcy_defi.keys())])[-2:]\n",
    "        sorted_defi = sorted(list(itertools.chain.from_iterable(top_2_cluster.values())))[::-1][:10]\n",
    "        sorted_defi = pd.DataFrame({'momentum':[kk.loc[d].momentum for d in [v[1] for v in sorted_defi]],\n",
    "                                    'cluster' : [v[2] for v in sorted_defi]\n",
    "                                   },\n",
    "                                  index=[v[1] for v in sorted_defi])\n",
    "        week_momentum[d] = sorted_defi"
   ]
  },
  {
   "cell_type": "code",
   "execution_count": 25,
   "metadata": {},
   "outputs": [
    {
     "name": "stdout",
     "output_type": "stream",
     "text": [
      "- The defi \"Luna Classic\" is considred as a bankrupt project at : 10/05/2022\n"
     ]
    }
   ],
   "source": [
    "for d in bankruptcy_defi.keys():\n",
    "    print(f'- The defi \"{d}\" is considred as a bankrupt project at : {bankruptcy_defi[d][0]}')"
   ]
  },
  {
   "cell_type": "code",
   "execution_count": 26,
   "metadata": {},
   "outputs": [],
   "source": [
    "# For each week buid a dataframe of the price data of the selected Defi :  \n",
    "week_data_dict = {w:pd.DataFrame({d:df[d] for d in week_momentum[w].index}).iloc[:list(df.index).index(w)+1] for w in week_momentum.keys()}"
   ]
  },
  {
   "cell_type": "markdown",
   "metadata": {},
   "source": [
    "#### Example : \n",
    "<div class=\"alert alert-block alert-warning\">\n",
    "<strong><em>Week : 20/05/2021\n",
    "</div>"
   ]
  },
  {
   "cell_type": "code",
   "execution_count": 27,
   "metadata": {},
   "outputs": [
    {
     "name": "stdout",
     "output_type": "stream",
     "text": [
      "Defi selected the 20/05/2021\n"
     ]
    },
    {
     "data": {
      "text/html": [
       "<div>\n",
       "<style scoped>\n",
       "    .dataframe tbody tr th:only-of-type {\n",
       "        vertical-align: middle;\n",
       "    }\n",
       "\n",
       "    .dataframe tbody tr th {\n",
       "        vertical-align: top;\n",
       "    }\n",
       "\n",
       "    .dataframe thead th {\n",
       "        text-align: right;\n",
       "    }\n",
       "</style>\n",
       "<table border=\"1\" class=\"dataframe\">\n",
       "  <thead>\n",
       "    <tr style=\"text-align: right;\">\n",
       "      <th></th>\n",
       "      <th>momentum</th>\n",
       "      <th>cluster</th>\n",
       "    </tr>\n",
       "  </thead>\n",
       "  <tbody>\n",
       "    <tr>\n",
       "      <th>The Graph</th>\n",
       "      <td>35.596816</td>\n",
       "      <td>3</td>\n",
       "    </tr>\n",
       "    <tr>\n",
       "      <th>THORChain</th>\n",
       "      <td>11.640941</td>\n",
       "      <td>6</td>\n",
       "    </tr>\n",
       "    <tr>\n",
       "      <th>Ren</th>\n",
       "      <td>10.425526</td>\n",
       "      <td>1</td>\n",
       "    </tr>\n",
       "    <tr>\n",
       "      <th>PancakeSwap</th>\n",
       "      <td>10.368317</td>\n",
       "      <td>6</td>\n",
       "    </tr>\n",
       "    <tr>\n",
       "      <th>Serum</th>\n",
       "      <td>10.020217</td>\n",
       "      <td>3</td>\n",
       "    </tr>\n",
       "    <tr>\n",
       "      <th>Keep Network</th>\n",
       "      <td>6.891984</td>\n",
       "      <td>8</td>\n",
       "    </tr>\n",
       "    <tr>\n",
       "      <th>Injective</th>\n",
       "      <td>5.717968</td>\n",
       "      <td>8</td>\n",
       "    </tr>\n",
       "    <tr>\n",
       "      <th>DeFiChain</th>\n",
       "      <td>5.603812</td>\n",
       "      <td>4</td>\n",
       "    </tr>\n",
       "    <tr>\n",
       "      <th>NXM</th>\n",
       "      <td>4.882806</td>\n",
       "      <td>1</td>\n",
       "    </tr>\n",
       "    <tr>\n",
       "      <th>Rocket Pool</th>\n",
       "      <td>2.762836</td>\n",
       "      <td>9</td>\n",
       "    </tr>\n",
       "  </tbody>\n",
       "</table>\n",
       "</div>"
      ],
      "text/plain": [
       "               momentum  cluster\n",
       "The Graph     35.596816        3\n",
       "THORChain     11.640941        6\n",
       "Ren           10.425526        1\n",
       "PancakeSwap   10.368317        6\n",
       "Serum         10.020217        3\n",
       "Keep Network   6.891984        8\n",
       "Injective      5.717968        8\n",
       "DeFiChain      5.603812        4\n",
       "NXM            4.882806        1\n",
       "Rocket Pool    2.762836        9"
      ]
     },
     "execution_count": 27,
     "metadata": {},
     "output_type": "execute_result"
    }
   ],
   "source": [
    "print('Defi selected the 20/05/2021')\n",
    "week_momentum['20/05/2021']"
   ]
  },
  {
   "cell_type": "code",
   "execution_count": 28,
   "metadata": {},
   "outputs": [
    {
     "name": "stdout",
     "output_type": "stream",
     "text": [
      "Prices of Defi selected the 20/05/2021\n"
     ]
    },
    {
     "data": {
      "text/html": [
       "<div>\n",
       "<style scoped>\n",
       "    .dataframe tbody tr th:only-of-type {\n",
       "        vertical-align: middle;\n",
       "    }\n",
       "\n",
       "    .dataframe tbody tr th {\n",
       "        vertical-align: top;\n",
       "    }\n",
       "\n",
       "    .dataframe thead th {\n",
       "        text-align: right;\n",
       "    }\n",
       "</style>\n",
       "<table border=\"1\" class=\"dataframe\">\n",
       "  <thead>\n",
       "    <tr style=\"text-align: right;\">\n",
       "      <th></th>\n",
       "      <th>The Graph</th>\n",
       "      <th>THORChain</th>\n",
       "      <th>Ren</th>\n",
       "      <th>PancakeSwap</th>\n",
       "      <th>Serum</th>\n",
       "      <th>Keep Network</th>\n",
       "      <th>Injective</th>\n",
       "      <th>DeFiChain</th>\n",
       "      <th>NXM</th>\n",
       "      <th>Rocket Pool</th>\n",
       "    </tr>\n",
       "  </thead>\n",
       "  <tbody>\n",
       "    <tr>\n",
       "      <th>29/12/2020</th>\n",
       "      <td>0.380357</td>\n",
       "      <td>1.036460</td>\n",
       "      <td>0.335007</td>\n",
       "      <td>0.536077</td>\n",
       "      <td>1.015460</td>\n",
       "      <td>0.209005</td>\n",
       "      <td>4.751879</td>\n",
       "      <td>1.316912</td>\n",
       "      <td>24.465493</td>\n",
       "      <td>5.421742</td>\n",
       "    </tr>\n",
       "    <tr>\n",
       "      <th>30/12/2020</th>\n",
       "      <td>0.372731</td>\n",
       "      <td>1.199241</td>\n",
       "      <td>0.302465</td>\n",
       "      <td>0.564923</td>\n",
       "      <td>1.078194</td>\n",
       "      <td>0.201156</td>\n",
       "      <td>4.311999</td>\n",
       "      <td>1.296751</td>\n",
       "      <td>23.911672</td>\n",
       "      <td>16.506291</td>\n",
       "    </tr>\n",
       "    <tr>\n",
       "      <th>31/12/2020</th>\n",
       "      <td>0.374873</td>\n",
       "      <td>1.699729</td>\n",
       "      <td>0.137077</td>\n",
       "      <td>0.601883</td>\n",
       "      <td>0.966790</td>\n",
       "      <td>0.198231</td>\n",
       "      <td>3.871555</td>\n",
       "      <td>1.114565</td>\n",
       "      <td>24.276547</td>\n",
       "      <td>2.320240</td>\n",
       "    </tr>\n",
       "    <tr>\n",
       "      <th>01/01/2021</th>\n",
       "      <td>0.350674</td>\n",
       "      <td>1.169678</td>\n",
       "      <td>0.321546</td>\n",
       "      <td>1.415069</td>\n",
       "      <td>1.039962</td>\n",
       "      <td>0.187890</td>\n",
       "      <td>4.065262</td>\n",
       "      <td>1.380840</td>\n",
       "      <td>26.671309</td>\n",
       "      <td>12.625908</td>\n",
       "    </tr>\n",
       "    <tr>\n",
       "      <th>02/01/2021</th>\n",
       "      <td>0.362392</td>\n",
       "      <td>2.002862</td>\n",
       "      <td>0.707198</td>\n",
       "      <td>0.661411</td>\n",
       "      <td>1.133318</td>\n",
       "      <td>0.209686</td>\n",
       "      <td>4.079060</td>\n",
       "      <td>1.333978</td>\n",
       "      <td>26.131789</td>\n",
       "      <td>2.252028</td>\n",
       "    </tr>\n",
       "    <tr>\n",
       "      <th>...</th>\n",
       "      <td>...</td>\n",
       "      <td>...</td>\n",
       "      <td>...</td>\n",
       "      <td>...</td>\n",
       "      <td>...</td>\n",
       "      <td>...</td>\n",
       "      <td>...</td>\n",
       "      <td>...</td>\n",
       "      <td>...</td>\n",
       "      <td>...</td>\n",
       "    </tr>\n",
       "    <tr>\n",
       "      <th>16/05/2021</th>\n",
       "      <td>1.315126</td>\n",
       "      <td>17.530446</td>\n",
       "      <td>0.773261</td>\n",
       "      <td>28.628611</td>\n",
       "      <td>7.872703</td>\n",
       "      <td>0.519603</td>\n",
       "      <td>16.231916</td>\n",
       "      <td>3.897199</td>\n",
       "      <td>130.847799</td>\n",
       "      <td>19.355694</td>\n",
       "    </tr>\n",
       "    <tr>\n",
       "      <th>17/05/2021</th>\n",
       "      <td>1.299053</td>\n",
       "      <td>16.799810</td>\n",
       "      <td>0.746412</td>\n",
       "      <td>29.198571</td>\n",
       "      <td>9.701702</td>\n",
       "      <td>0.478326</td>\n",
       "      <td>15.832070</td>\n",
       "      <td>3.793552</td>\n",
       "      <td>137.341126</td>\n",
       "      <td>21.123852</td>\n",
       "    </tr>\n",
       "    <tr>\n",
       "      <th>18/05/2021</th>\n",
       "      <td>1.193968</td>\n",
       "      <td>18.366675</td>\n",
       "      <td>0.994112</td>\n",
       "      <td>26.709145</td>\n",
       "      <td>9.201895</td>\n",
       "      <td>0.444263</td>\n",
       "      <td>14.459295</td>\n",
       "      <td>3.573952</td>\n",
       "      <td>125.641210</td>\n",
       "      <td>17.485454</td>\n",
       "    </tr>\n",
       "    <tr>\n",
       "      <th>19/05/2021</th>\n",
       "      <td>1.226397</td>\n",
       "      <td>20.341567</td>\n",
       "      <td>0.751245</td>\n",
       "      <td>26.995967</td>\n",
       "      <td>9.608845</td>\n",
       "      <td>0.446056</td>\n",
       "      <td>18.015733</td>\n",
       "      <td>3.493042</td>\n",
       "      <td>129.372209</td>\n",
       "      <td>20.618527</td>\n",
       "    </tr>\n",
       "    <tr>\n",
       "      <th>20/05/2021</th>\n",
       "      <td>0.745803</td>\n",
       "      <td>6.823931</td>\n",
       "      <td>0.797837</td>\n",
       "      <td>15.672639</td>\n",
       "      <td>5.445525</td>\n",
       "      <td>0.322961</td>\n",
       "      <td>11.806718</td>\n",
       "      <td>2.961260</td>\n",
       "      <td>94.010830</td>\n",
       "      <td>17.100883</td>\n",
       "    </tr>\n",
       "  </tbody>\n",
       "</table>\n",
       "<p>143 rows × 10 columns</p>\n",
       "</div>"
      ],
      "text/plain": [
       "            The Graph  THORChain       Ren  PancakeSwap     Serum  \\\n",
       "29/12/2020   0.380357   1.036460  0.335007     0.536077  1.015460   \n",
       "30/12/2020   0.372731   1.199241  0.302465     0.564923  1.078194   \n",
       "31/12/2020   0.374873   1.699729  0.137077     0.601883  0.966790   \n",
       "01/01/2021   0.350674   1.169678  0.321546     1.415069  1.039962   \n",
       "02/01/2021   0.362392   2.002862  0.707198     0.661411  1.133318   \n",
       "...               ...        ...       ...          ...       ...   \n",
       "16/05/2021   1.315126  17.530446  0.773261    28.628611  7.872703   \n",
       "17/05/2021   1.299053  16.799810  0.746412    29.198571  9.701702   \n",
       "18/05/2021   1.193968  18.366675  0.994112    26.709145  9.201895   \n",
       "19/05/2021   1.226397  20.341567  0.751245    26.995967  9.608845   \n",
       "20/05/2021   0.745803   6.823931  0.797837    15.672639  5.445525   \n",
       "\n",
       "            Keep Network  Injective  DeFiChain         NXM  Rocket Pool  \n",
       "29/12/2020      0.209005   4.751879   1.316912   24.465493     5.421742  \n",
       "30/12/2020      0.201156   4.311999   1.296751   23.911672    16.506291  \n",
       "31/12/2020      0.198231   3.871555   1.114565   24.276547     2.320240  \n",
       "01/01/2021      0.187890   4.065262   1.380840   26.671309    12.625908  \n",
       "02/01/2021      0.209686   4.079060   1.333978   26.131789     2.252028  \n",
       "...                  ...        ...        ...         ...          ...  \n",
       "16/05/2021      0.519603  16.231916   3.897199  130.847799    19.355694  \n",
       "17/05/2021      0.478326  15.832070   3.793552  137.341126    21.123852  \n",
       "18/05/2021      0.444263  14.459295   3.573952  125.641210    17.485454  \n",
       "19/05/2021      0.446056  18.015733   3.493042  129.372209    20.618527  \n",
       "20/05/2021      0.322961  11.806718   2.961260   94.010830    17.100883  \n",
       "\n",
       "[143 rows x 10 columns]"
      ]
     },
     "execution_count": 28,
     "metadata": {},
     "output_type": "execute_result"
    }
   ],
   "source": [
    "print('Prices of Defi selected the 20/05/2021')\n",
    "week_data_dict['20/05/2021']"
   ]
  },
  {
   "cell_type": "markdown",
   "metadata": {},
   "source": [
    "# <font color='red'>Constrained Portfolio Optimization"
   ]
  },
  {
   "cell_type": "code",
   "execution_count": 59,
   "metadata": {},
   "outputs": [
    {
     "ename": "ModuleNotFoundError",
     "evalue": "No module named 'defi.optimization'",
     "output_type": "error",
     "traceback": [
      "\u001b[1;31m---------------------------------------------------------------------------\u001b[0m",
      "\u001b[1;31mModuleNotFoundError\u001b[0m                       Traceback (most recent call last)",
      "\u001b[1;32mc:\\Users\\Mouad Bouaida\\momentum-based-investment-strategy\\notebooks\\Momentum Investement Strategy.ipynb Cell 49'\u001b[0m in \u001b[0;36m<cell line: 1>\u001b[1;34m()\u001b[0m\n\u001b[1;32m----> <a href='vscode-notebook-cell:/c%3A/Users/Mouad%20Bouaida/momentum-based-investment-strategy/notebooks/Momentum%20Investement%20Strategy.ipynb#ch0000048?line=0'>1</a>\u001b[0m \u001b[39mfrom\u001b[39;00m \u001b[39mdefi\u001b[39;00m\u001b[39m.\u001b[39;00m\u001b[39moptimization\u001b[39;00m \u001b[39mimport\u001b[39;00m Optimization\n",
      "\u001b[1;31mModuleNotFoundError\u001b[0m: No module named 'defi.optimization'"
     ]
    }
   ],
   "source": [
    "from defi.optimization import Optimization"
   ]
  },
  {
   "cell_type": "code",
   "execution_count": 58,
   "metadata": {},
   "outputs": [
    {
     "ename": "AttributeError",
     "evalue": "module 'defi' has no attribute 'Optimization'",
     "output_type": "error",
     "traceback": [
      "\u001b[1;31m---------------------------------------------------------------------------\u001b[0m",
      "\u001b[1;31mAttributeError\u001b[0m                            Traceback (most recent call last)",
      "\u001b[1;32mc:\\Users\\Mouad Bouaida\\momentum-based-investment-strategy\\notebooks\\Momentum Investement Strategy.ipynb Cell 50'\u001b[0m in \u001b[0;36m<cell line: 1>\u001b[1;34m()\u001b[0m\n\u001b[1;32m----> <a href='vscode-notebook-cell:/c%3A/Users/Mouad%20Bouaida/momentum-based-investment-strategy/notebooks/Momentum%20Investement%20Strategy.ipynb#ch0000071?line=0'>1</a>\u001b[0m defi\u001b[39m.\u001b[39;49mOptimization(week_data_dict[\u001b[39m'\u001b[39m\u001b[39m20/05/2021\u001b[39m\u001b[39m'\u001b[39m],week_momentum)\u001b[39m.\u001b[39mgetOptimalAllocation()\n",
      "\u001b[1;31mAttributeError\u001b[0m: module 'defi' has no attribute 'Optimization'"
     ]
    }
   ],
   "source": [
    "defi.Optimization(week_data_dict['20/05/2021'],week_momentum).getOptimalAllocation()"
   ]
  },
  {
   "cell_type": "code",
   "execution_count": 30,
   "metadata": {},
   "outputs": [
    {
     "ename": "NameError",
     "evalue": "name 'Optimization' is not defined",
     "output_type": "error",
     "traceback": [
      "\u001b[1;31m---------------------------------------------------------------------------\u001b[0m",
      "\u001b[1;31mNameError\u001b[0m                                 Traceback (most recent call last)",
      "\u001b[1;32mc:\\Users\\Mouad Bouaida\\momentum-based-investment-strategy\\notebooks\\Momentum Investement Strategy.ipynb Cell 50'\u001b[0m in \u001b[0;36m<cell line: 1>\u001b[1;34m()\u001b[0m\n\u001b[1;32m----> <a href='vscode-notebook-cell:/c%3A/Users/Mouad%20Bouaida/momentum-based-investment-strategy/notebooks/Momentum%20Investement%20Strategy.ipynb#ch0000049?line=0'>1</a>\u001b[0m week_optimal_allocation \u001b[39m=\u001b[39m {\n\u001b[0;32m      <a href='vscode-notebook-cell:/c%3A/Users/Mouad%20Bouaida/momentum-based-investment-strategy/notebooks/Momentum%20Investement%20Strategy.ipynb#ch0000049?line=1'>2</a>\u001b[0m     w:Optimization(week_data_dict[w],week_momentum)\u001b[39m.\u001b[39mgetOptimalAllocation() \n\u001b[0;32m      <a href='vscode-notebook-cell:/c%3A/Users/Mouad%20Bouaida/momentum-based-investment-strategy/notebooks/Momentum%20Investement%20Strategy.ipynb#ch0000049?line=2'>3</a>\u001b[0m     \u001b[39mfor\u001b[39;00m w \u001b[39min\u001b[39;00m week_data_dict\u001b[39m.\u001b[39mkeys()\n\u001b[0;32m      <a href='vscode-notebook-cell:/c%3A/Users/Mouad%20Bouaida/momentum-based-investment-strategy/notebooks/Momentum%20Investement%20Strategy.ipynb#ch0000049?line=3'>4</a>\u001b[0m }\n",
      "\u001b[1;32mc:\\Users\\Mouad Bouaida\\momentum-based-investment-strategy\\notebooks\\Momentum Investement Strategy.ipynb Cell 50'\u001b[0m in \u001b[0;36m<dictcomp>\u001b[1;34m(.0)\u001b[0m\n\u001b[0;32m      <a href='vscode-notebook-cell:/c%3A/Users/Mouad%20Bouaida/momentum-based-investment-strategy/notebooks/Momentum%20Investement%20Strategy.ipynb#ch0000049?line=0'>1</a>\u001b[0m week_optimal_allocation \u001b[39m=\u001b[39m {\n\u001b[1;32m----> <a href='vscode-notebook-cell:/c%3A/Users/Mouad%20Bouaida/momentum-based-investment-strategy/notebooks/Momentum%20Investement%20Strategy.ipynb#ch0000049?line=1'>2</a>\u001b[0m     w:Optimization(week_data_dict[w],week_momentum)\u001b[39m.\u001b[39mgetOptimalAllocation() \n\u001b[0;32m      <a href='vscode-notebook-cell:/c%3A/Users/Mouad%20Bouaida/momentum-based-investment-strategy/notebooks/Momentum%20Investement%20Strategy.ipynb#ch0000049?line=2'>3</a>\u001b[0m     \u001b[39mfor\u001b[39;00m w \u001b[39min\u001b[39;00m week_data_dict\u001b[39m.\u001b[39mkeys()\n\u001b[0;32m      <a href='vscode-notebook-cell:/c%3A/Users/Mouad%20Bouaida/momentum-based-investment-strategy/notebooks/Momentum%20Investement%20Strategy.ipynb#ch0000049?line=3'>4</a>\u001b[0m }\n",
      "\u001b[1;31mNameError\u001b[0m: name 'Optimization' is not defined"
     ]
    }
   ],
   "source": [
    "week_optimal_allocation = {\n",
    "    w:Optimization(week_data_dict[w],week_momentum).getOptimalAllocation() \n",
    "    for w in week_data_dict.keys()\n",
    "}"
   ]
  },
  {
   "cell_type": "markdown",
   "metadata": {},
   "source": [
    "#### Example : \n",
    "<div class=\"alert alert-block alert-warning\">\n",
    "<strong><em>Week : 20/05/2021\n",
    "</div>"
   ]
  },
  {
   "cell_type": "code",
   "execution_count": 30,
   "metadata": {
    "scrolled": true
   },
   "outputs": [
    {
     "name": "stdout",
     "output_type": "stream",
     "text": [
      "******************************************\n",
      "The Optimal Allocation for week 20/05/2021\n",
      "******************************************\n",
      "- \"The Graph\" : 14.22%\n",
      "- \"Basic Attention Token\" : 6.5%\n",
      "- \"Ren\" : 11.52%\n",
      "- \"Serum\" : 13.65%\n",
      "- \"PancakeSwap\" : 0.18%\n",
      "- \"THORChain\" : 12.9%\n",
      "- \"DeFiChain\" : 14.15%\n",
      "- \"SXP\" : 10.12%\n",
      "- \"Rocket Pool\" : 5.0%\n",
      "- \"Compound\" : 11.74%\n",
      "******************************************\n",
      "The sum of weights is : 100.0%\n",
      "******************************************\n"
     ]
    }
   ],
   "source": [
    "week_test = week_optimal_allocation['20/05/2021']\n",
    "print('******************************************')\n",
    "print('The Optimal Allocation for week 20/05/2021')\n",
    "print('******************************************')\n",
    "for i in range(10):\n",
    "    print(f'- \"{week_test[0][i]}\" : {round(week_test[1][i]*100,2)}%')\n",
    "print('******************************************')\n",
    "print(f'The sum of weights is : {round(sum(week_test[1])*100,2)}%')\n",
    "print('******************************************')    "
   ]
  },
  {
   "cell_type": "markdown",
   "metadata": {},
   "source": [
    "## <font color='red'>Backtesting and Evaluation"
   ]
  },
  {
   "cell_type": "code",
   "execution_count": 31,
   "metadata": {},
   "outputs": [],
   "source": [
    "from defi.backtests import Backtesting"
   ]
  },
  {
   "cell_type": "code",
   "execution_count": 32,
   "metadata": {},
   "outputs": [],
   "source": [
    "# The Backtesting starts at the First Thursday of the available time series\n",
    "first_week = list(week_optimal_allocation.keys())[0]\n",
    "first_week_ind = list(df_returns.index).index(first_week)\n",
    "df_returns = df_returns.iloc[first_week_ind:]"
   ]
  },
  {
   "cell_type": "code",
   "execution_count": 33,
   "metadata": {},
   "outputs": [
    {
     "name": "stdout",
     "output_type": "stream",
     "text": [
      "Week 11/03/2021 momentum : [0.24999999999999412, 2.539461696482448e-14, 0.2999999999999592, 0.0, 0.04999999999999967, 3.3480163086352377e-16, 0.30000000000001226, 0.0500000000000104, 0.049999999999997075, 2.2499363483419188e-15]\n",
      "**********************************************************************************\n",
      "Week 18/03/2021 momentum : [9.870576578308032e-15, 0.0, 0.25000000000013756, 0.049999999999991315, 0.29999999999997273, 0.0, 0.3000000000000653, 0.049999999999987346, 0.04999999999998037, 0.0]\n",
      "**********************************************************************************\n",
      "Week 25/03/2021 momentum : [1.1293049828609014e-15, 0.049999999999929184, 0.1999999999998915, 1.9821817798248986e-13, 1.482668154917377e-14, 0.04999999999998792, 0.2999999999999751, 0.29999999999999166, 0.050000000000005124, 0.05000000000000501]\n",
      "**********************************************************************************\n",
      "Week 01/04/2021 momentum : [0.050000000000076816, 0.04999999999989732, 0.0, 0.049999999999998455, 0.20000000000002857, 0.0, 0.05000000000003161, 0.3000000000000362, 0.30000000000000937, 1.462024945553253e-14]\n",
      "**********************************************************************************\n",
      "Week 08/04/2021 momentum : [0.05000000000002533, 0.049999999999988234, 0.199999999999973, 0.0, 0.0, 0.050000000000015005, 0.3000000000000005, 1.6148540837868097e-14, 0.0500000000000006, 0.29999999999999893]\n",
      "**********************************************************************************\n",
      "Week 15/04/2021 momentum : [0.050000000000001335, 0.19999999999997622, 0.2999999999999864, 2.628453010800058e-14, 0.04999999999999807, 0.04999999999999463, 1.5885288693528843e-14, 0.29999999999999066, 1.0180061897929233e-14, 0.05000000000000024]\n",
      "**********************************************************************************\n",
      "Week 22/04/2021 momentum : [5.384653061592801e-13, 0.04999999999929658, 0.2678003774402936, 0.050000000000593174, 0.2999999999997237, 3.121915928155521e-13, 0.04999999999998821, 2.0695701483461994e-13, 0.050000000000529225, 0.23219962255851778]\n",
      "**********************************************************************************\n",
      "Week 29/04/2021 momentum : [0.24999999999998992, 2.348642114124999e-14, 0.29999999999998805, 0.29999999999998495, 9.672818102046676e-15, 0.0, 1.3248083186034876e-14, 0.04999999999999397, 0.049999999999997886, 0.050000000000000044]\n",
      "**********************************************************************************\n",
      "Week 06/05/2021 momentum : [0.15023438480194132, 0.1497656151980587, 0.049999999999999996, 0.07174178725729839, 1.3877787807814457e-17, 0.10864001120964312, 0.14485718669474354, 0.05000000000000003, 0.148936550042631, 0.12582446479568388]\n",
      "**********************************************************************************\n",
      "Week 13/05/2021 momentum : [0.049999999999999996, 0.10919114943220629, 0.0, 0.10738206175123255, 0.1499063911407647, 0.10350035275011721, 0.15009360885923528, 0.15342362701169332, 0.049999999999999996, 0.1265028090547507]\n",
      "**********************************************************************************\n",
      "Week 20/05/2021 momentum : [0.14220124806260273, 0.06502456988461522, 0.11520082866218871, 0.13654404004083526, 0.0018473534070949649, 0.12902152346993861, 0.14152504168181007, 0.10122434847706023, 0.05000000000000001, 0.11741104631385411]\n",
      "**********************************************************************************\n",
      "Week 27/05/2021 momentum : [0.15010494460914067, 0.14989505539085932, 0.05000000000000002, 0.13573921630632563, 0.04999999999999998, 0.08952399870072326, 0.11004961864864282, 0.050426382650633886, 0.1642607836936744, 0.05]\n",
      "**********************************************************************************\n",
      "Week 03/06/2021 momentum : [0.09417172300943302, 0.108221336317208, 0.11284195349290847, 0.1098430265886356, 0.10168689874210296, 0.039469454964819004, 0.09617351764675061, 0.09564192768662033, 0.16970111364264637, 0.07224904790887575]\n",
      "**********************************************************************************\n",
      "Week 10/06/2021 momentum : [0.07564099691157909, 0.13153707001672738, 0.19682587548607094, 0.07668448705156222, 0.05, 0.0507732357477832, 0.1098355340438632, 0.0894394905044651, 0.1339787814268322, 0.08528452881111659]\n",
      "**********************************************************************************\n",
      "Week 17/06/2021 momentum : [0.10584235568058532, 0.05000000000000002, 0.11082256489091442, 0.11535038945008842, 0.14017263505612862, 0.08430662228473229, 0.14870262772709175, 0.11369376587478962, 0.05510826890811476, 0.07600077012755495]\n",
      "**********************************************************************************\n",
      "Week 24/06/2021 momentum : [0.0010139243764917955, 0.10093206631506588, 0.04781752875842381, 0.05, 0.12075484109302961, 0.24127737346182468, 0.08294359945174294, 0.11997175931620976, 0.12990958901756264, 0.105379318209649]\n",
      "**********************************************************************************\n",
      "Week 01/07/2021 momentum : [0.02117838036038291, 0.2740198524960035, 0.05, 0.10169607021341573, 0.028821619639617095, 0.15798952250569187, 0.07866152231880785, 0.004874968121212998, 0.2567779168408717, 0.025980147503996513]\n",
      "**********************************************************************************\n",
      "Week 08/07/2021 momentum : [0.10906155993323036, 0.19636869582324468, 0.10579913210267385, 0.050000000000000024, 0.037452567269652334, 0.10474588430032547, 0.10374236906271173, 0.1047568968049129, 0.11552610236460825, 0.07254679233864052]\n",
      "**********************************************************************************\n",
      "Week 15/07/2021 momentum : [0.04279182435057881, 0.1102355744023741, 0.11751225884498215, 0.20462069393901844, 0.05000000000000001, 0.03363660453076178, 0.1157432720734044, 0.148044854219231, 0.10766639159905206, 0.06974852604059731]\n",
      "**********************************************************************************\n",
      "Week 22/07/2021 momentum : [0.04544432355759385, 0.10977348874035431, 0.202833777465886, 0.1153742416169646, 0.049999999999999996, 0.11253584398723637, 0.11388653727261243, 0.14150539220679317, 0.0715974097912032, 0.03704898536135627]\n",
      "**********************************************************************************\n",
      "Week 29/07/2021 momentum : [0.0, 0.04999999999996692, 0.1384312531816935, 0.08155553356823324, 0.04999999999995117, 0.16844446643179395, 0.0, 0.05000000000000169, 0.16156874681837982, 0.30000000000002136]\n",
      "**********************************************************************************\n",
      "Week 05/08/2021 momentum : [0.0, 0.0499999999999939, 0.04999999999998624, 0.049999999999969846, 0.19562471632974082, 0.04999999999997214, 0.022377252498421665, 0.30000000000001004, 0.0043752836703757425, 0.2776227475015857]\n",
      "**********************************************************************************\n",
      "Week 12/08/2021 momentum : [0.13111652975837193, 2.3930944031969048e-14, 0.0, 0.06888347024162517, 0.049999999999996304, 0.3000000000000085, 0.05000000000000205, 0.2999999999999852, 0.05000000000000064, 0.049999999999999475]\n",
      "**********************************************************************************\n",
      "Week 19/08/2021 momentum : [0.2499999999999884, 4.4200754167889045e-15, 0.29999999999999305, 0.04999999999999588, 0.2999999999999897, 0.05000000000000647, 1.2464855536631347e-14, 1.1162945567910754e-14, 0.04999999999999799, 4.891920202254596e-16]\n",
      "**********************************************************************************\n",
      "Week 26/08/2021 momentum : [0.0, 0.25000000000001543, 0.3000000000000119, 0.0, 0.05000000000000492, 0.15520315986025895, 0.14479684013973712, 0.04999999999999957, 0.05000000000000071, 0.0]\n",
      "**********************************************************************************\n",
      "Week 02/09/2021 momentum : [0.2499999999999723, 3.041317198082538e-14, 0.29999999999998433, 1.847827446610495e-14, 0.04999999999999267, 0.26553912154605797, 0.034460878453943106, 0.050000000000000766, 0.049999999999997644, 2.2967738821932926e-15]\n",
      "**********************************************************************************\n",
      "Week 09/09/2021 momentum : [0.250000000000009, 0.3000000000000514, 0.0, 0.0, 0.23041699080167288, 0.05000000000000311, 0.069583009198321, 0.04999999999999741, 0.050000000000000114, 1.5092094240998222e-16]\n",
      "**********************************************************************************\n",
      "Week 16/09/2021 momentum : [0.0, 0.18724863116364118, 0.06275136883636132, 0.3000000000000003, 0.24065324251212827, 0.050000000000001966, 0.059346757487875455, 0.04999999999999677, 0.0, 0.050000000000003327]\n",
      "**********************************************************************************\n",
      "Week 23/09/2021 momentum : [0.24977837554433857, 0.2999999999999953, 0.00022162445565889616, 0.2789352184679086, 0.049999999999998004, 8.999745393367675e-15, 0.050000000000001855, 0.02106478153209082, 0.04999999999999824, 5.880712583561376e-16]\n",
      "**********************************************************************************\n",
      "Week 30/09/2021 momentum : [0.1999999999999187, 4.947431353485854e-14, 0.2675542249346754, 0.0500000000000078, 0.05000000000001299, 0.050000000000006734, 0.05000000000001837, 0.3000000000001174, 0.032445775065182175, 1.1079678841063867e-14]\n",
      "**********************************************************************************\n",
      "Week 07/10/2021 momentum : [0.002070784230805322, 0.04792921576926221, 0.04999999999991467, 0.3000000000000082, 0.049999999999996735, 0.05000000000000075, 0.04999999999999287, 0.049999999999994646, 0.10000000000000192, 0.3000000000000229]\n",
      "**********************************************************************************\n",
      "Week 14/10/2021 momentum : [0.3000000000000019, 0.01809040778781731, 0.03190959221218107, 0.050000000000000135, 0.050000000000001994, 0.10403291655289437, 0.05000000000000007, 0.29596708344710454, 0.04999999999999977, 0.0499999999999987]\n",
      "**********************************************************************************\n",
      "Week 21/10/2021 momentum : [0.09999999999998217, 0.0, 0.050000000000013624, 0.30000000000001353, 0.04999999999998983, 0.300000000000045, 0.050000000000001266, 0.04999999999999609, 0.049999999999996374, 0.05000000000000286]\n",
      "**********************************************************************************\n",
      "Week 28/10/2021 momentum : [0.0013264906775344414, 0.0999999999999871, 0.048673509322526044, 0.29999999999997584, 0.05000000000002396, 0.05000000000000502, 0.04999999999999503, 0.0500000000000148, 0.05000000000002058, 0.2999999999999173]\n",
      "**********************************************************************************\n",
      "Week 04/11/2021 momentum : [3.587630424039915e-14, 0.1147799611908176, 0.2999999999999487, 0.04999999999997153, 4.988935039753571e-15, 0.2999999999999846, 0.05000000000003956, 0.04999999999999421, 0.05000000000002211, 0.08522003880918097]\n",
      "**********************************************************************************\n",
      "Week 11/11/2021 momentum : [0.08903602651558762, 0.04999999999999999, 0.07145919340736841, 0.07618980101713947, 0.07397270546751678, 0.16906607612078825, 0.10340765278849587, 0.09116120813139536, 0.2008255805440321, 0.07488175600767587]\n",
      "**********************************************************************************\n",
      "Week 18/11/2021 momentum : [0.3000000000000185, 0.13414958424675483, 0.11585041575318863, 0.0, 4.291705879566621e-15, 6.300515664747763e-14, 0.2999999999999818, 0.04999999999999394, 0.04999999999999765, 0.05000000000003648]\n",
      "**********************************************************************************\n",
      "Week 25/11/2021 momentum : [0.13564775436346604, 0.12491375755877257, 0.17172415704176672, 0.049999999999999996, 0.1161861415620224, 0.11423318860580951, 0.11723607441173414, 0.02320265809426133, 0.07079276151295037, 0.07606350684921696]\n",
      "**********************************************************************************\n",
      "Week 02/12/2021 momentum : [0.16380010246540408, 0.11385812835818594, 0.1261839441754547, 0.13038920616748326, 0.049999999999999996, 0.1277061564901827, 0.02406142161133646, 0.11750786026849433, 0.06644244948475522, 0.08005073097870341]\n",
      "**********************************************************************************\n",
      "Week 09/12/2021 momentum : [0.05000000000000043, 0.0, 0.3000000000000007, 0.013700669920680246, 0.30000000000000093, 0.18629933007931931, 8.534839501805891e-16, 0.04999999999999988, 0.050000000000001134, 0.05000000000000008]\n",
      "**********************************************************************************\n",
      "Week 16/12/2021 momentum : [0.29999999999999943, 0.09396107135180604, 0.0, 0.05000000000000036, 0.1060389286482828, 0.0, 0.3000000000000059, 0.05000000000000805, 0.04999999999999338, 0.05000000000000318]\n",
      "**********************************************************************************\n",
      "Week 23/12/2021 momentum : [0.14999999999999938, 0.0, 0.049999999999998816, 0.0500000000000008, 0.30000000000000104, 0.0, 0.05000000000000045, 0.29999999999999916, 0.050000000000000815, 0.050000000000000815]\n",
      "**********************************************************************************\n"
     ]
    },
    {
     "name": "stdout",
     "output_type": "stream",
     "text": [
      "Week 30/12/2021 momentum : [0.14958936752636393, 0.12727809017862932, 0.0, 0.07272190982137075, 0.1504106324736356, 0.0499999999999984, 0.050000000000000405, 0.29999999999999993, 0.05000000000000286, 0.05000000000000014]\n",
      "**********************************************************************************\n",
      "Week 06/01/2022 momentum : [0.05000000000003974, 0.04999999999990454, 0.05000000000000505, 0.13691984264572468, 0.013080157354293586, 5.657534577934161e-15, 0.05000000000001192, 0.29999999999999455, 0.0500000000000059, 0.30000000000001426]\n",
      "**********************************************************************************\n",
      "Week 13/01/2022 momentum : [0.29999999999996724, 0.27075440090832753, 6.003853124053054e-15, 0.050000000000024296, 0.0, 0.049999999999998136, 0.029245599091721135, 0.14513240634202967, 0.05000000000002805, 0.10486759365792961]\n",
      "**********************************************************************************\n",
      "Week 20/01/2022 momentum : [0.05000000000001603, 0.30000000000006855, 0.08730765575338367, 0.11269234424663398, 0.0, 0.050000000000018155, 0.3000000000000073, 0.050000000000000516, 0.0, 0.05000000000000954]\n",
      "**********************************************************************************\n",
      "Week 27/01/2022 momentum : [0.11388369457783615, 0.1163953117663987, 0.0502587145670728, 0.0, 0.0858575908551159, 0.30000000000000254, 0.1836046882336236, 0.04999999999998167, 0.05000000000000471, 0.04999999999998533]\n",
      "**********************************************************************************\n",
      "Week 03/02/2022 momentum : [0.049999999999999996, 0.13553587316245266, 0.07262815634508253, 0.09017971311257411, 0.16224537440911838, 0.06747885798815972, 0.11183919100623615, 0.09073784383197771, 0.1186556495469241, 0.10069934059747465]\n",
      "**********************************************************************************\n",
      "Week 10/02/2022 momentum : [0.13601587222046568, 0.0762286722982626, 0.09294971980440872, 0.16543535429366132, 0.09642029716472257, 0.06842909382061158, 0.09382288576761609, 0.1178854595090297, 0.05, 0.10281264512122162]\n",
      "**********************************************************************************\n",
      "Week 17/02/2022 momentum : [0.050000000000001134, 0.0, 2.4991189860119875e-14, 0.19999999999999496, 0.299999999999991, 0.05000000000000558, 0.2999999999999981, 1.5681900222830336e-15, 0.050000000000002695, 0.04999999999999848]\n",
      "**********************************************************************************\n",
      "Week 24/02/2022 momentum : [0.11445245644783336, 0.12907742844398395, 0.09948555746631976, 0.10803568365913463, 0.10721313697093666, 0.05, 0.09857926018985441, 0.09922308053004944, 0.10775839405596488, 0.08617500223592296]\n",
      "**********************************************************************************\n",
      "Week 03/03/2022 momentum : [0.13443447727076907, 0.03414129920356915, 0.09462086698982097, 0.13438009344427537, 0.14772233176826, 0.11545566860631083, 0.1279467474414786, 0.04351071989128394, 0.07986389272851933, 0.08792390265571272]\n",
      "**********************************************************************************\n",
      "Week 10/03/2022 momentum : [0.10381340091512825, 0.1132435598370922, 0.10704483508734416, 0.10273732683615087, 0.10636938337348482, 0.12848741374834197, 0.05, 0.09698029933038649, 0.08490241309018162, 0.10642136778188972]\n",
      "**********************************************************************************\n",
      "Week 17/03/2022 momentum : [0.049999999999999656, 0.0, 0.027619880884817805, 0.02238011911518339, 0.1530992807416901, 0.04690071925830893, 0.3000000000000008, 0.04999999999999974, 0.30000000000000004, 0.0500000000000002]\n",
      "**********************************************************************************\n",
      "Week 24/03/2022 momentum : [0.05579131263888656, 0.031953996597904474, 0.049999999999999635, 0.018046003402095424, 0.30000000000000004, 0.010098865947840019, 0.15077400909531244, 0.04999999999999996, 0.18410982141327376, 0.149225990904688]\n",
      "**********************************************************************************\n",
      "Week 31/03/2022 momentum : [0.01798739321232868, 0.15042855861067886, 0.05265609416607047, 0.03201260678767153, 0.01980117291462019, 0.29999999999999977, 0.05000000000000025, 0.049999999999999586, 0.17918681798673577, 0.14792735632189485]\n",
      "**********************************************************************************\n",
      "Week 07/04/2022 momentum : [0.2999999999999893, 0.15652083663301208, 0.24999999999999042, 8.949438412564348e-15, 9.929557176491244e-15, 0.1434791633669898, 0.04999999999999572, 0.0500000000000021, 0.049999999999999115, 2.598615767013257e-15]\n",
      "**********************************************************************************\n",
      "Week 14/04/2022 momentum : [0.25000000000000366, 0.0, 0.3000000000000056, 0.0, 0.15505168831592736, 0.14494831168407118, 0.05000000000000038, 0.05000000000000054, 0.05000000000000149, 0.0]\n",
      "**********************************************************************************\n",
      "Week 21/04/2022 momentum : [0.0, 0.0, 0.3000000000000061, 0.15866032916436493, 0.25000000000000605, 0.14133967083563365, 0.05000000000000028, 0.050000000000000495, 0.0, 0.050000000000002674]\n",
      "**********************************************************************************\n",
      "Week 28/04/2022 momentum : [0.12013519207901666, 0.13060644303425695, 0.11444791425591351, 0.09039036819651472, 0.08606250970483525, 0.12318147461497284, 0.11288289124023948, 0.10891582096875048, 0.049999999999999996, 0.0633773859055001]\n",
      "**********************************************************************************\n",
      "Week 05/05/2022 momentum : [0.13777720011127237, 0.05000000000000002, 0.050183525325159725, 0.1374682291761399, 0.09526166879835138, 0.09509674434085053, 0.12895954307352717, 0.13063387224066308, 0.05000000000000002, 0.12461921693403581]\n",
      "**********************************************************************************\n",
      "Week 12/05/2022 momentum : [0.10632274506368758, 0.098903301655943, 0.05, 0.08574596732089507, 0.1176866141068866, 0.1067332391688207, 0.15293023153097807, 0.06044699769106454, 0.12329006229286064, 0.0979408411688637]\n",
      "**********************************************************************************\n",
      "Week 19/05/2022 momentum : [0.07433161416961954, 0.05000000000000001, 0.14265497883697636, 0.11246686557192526, 0.07011280189679392, 0.10316853879042844, 0.0699622582349135, 0.06945318371102632, 0.15734502116302365, 0.1505047376252931]\n",
      "**********************************************************************************\n",
      "Week 26/05/2022 momentum : [0.05000000000000002, 0.1070741614488102, 0.12174577268953347, 0.07284115151636493, 0.14881142154626403, 0.08039277431527118, 0.08934046257576414, 0.07854248588755383, 0.15174609747891132, 0.09950567254152681]\n",
      "**********************************************************************************\n",
      "Week 02/06/2022 momentum : [0.05000000000000001, 0.10764474183749517, 0.12198166921690047, 0.07342266515130873, 0.15041185771277468, 0.07983955282995478, 0.08877113348356022, 0.07821353700405254, 0.1508422113718611, 0.09887263139209204]\n",
      "**********************************************************************************\n",
      "Week 09/06/2022 momentum : [0.05041285175179217, 0.10358843400328367, 0.11638683155910585, 0.12226274053283581, 0.13268583718895116, 0.11540488243951791, 0.03027702349221178, 0.08588536769983031, 0.11703706897355079, 0.12605896235892064]\n",
      "**********************************************************************************\n",
      "Week 16/06/2022 momentum : [0.1083669776757568, 0.10696817801189583, 0.050000000000000086, 0.11163708320757576, 0.09673286016087605, 0.11264186404792464, 0.10917546795749195, 0.1260474808579285, 0.06721793023950551, 0.1112121578410451]\n",
      "**********************************************************************************\n",
      "Week 23/06/2022 momentum : [0.10868669047052094, 0.10716159255885424, 0.05, 0.0968744974516382, 0.11150802619517197, 0.10924152395074413, 0.11175695385428945, 0.126071079727195, 0.06723785872669309, 0.11146177706489269]\n",
      "**********************************************************************************\n",
      "Week 30/06/2022 momentum : [0.11047864052745152, 0.10004482267019489, 0.05, 0.09549790577925935, 0.11099640091706703, 0.11345354276330753, 0.12840328799582865, 0.11192892719199116, 0.06613715817847327, 0.11305931397642652]\n",
      "**********************************************************************************\n",
      "Week 07/07/2022 momentum : [0.11936340557449626, 0.10925036231789556, 0.05000000000000001, 0.10581723863842409, 0.10898865908745714, 0.07705370253214086, 0.1550400883741813, 0.05187185344868319, 0.10788768498958207, 0.11472700503713958]\n",
      "**********************************************************************************\n",
      "Week 14/07/2022 momentum : [0.1205169404628425, 0.10954844926833547, 0.05000000000000002, 0.10621932680583951, 0.07651710317109231, 0.10953797138374706, 0.15545201284804597, 0.1070106902037293, 0.05103324832836342, 0.11416425752800453]\n",
      "**********************************************************************************\n",
      "Week 21/07/2022 momentum : [0.0896810516162439, 0.09717710500547222, 0.09553087369799988, 0.05000000000000002, 0.08951116246301201, 0.11669678389738526, 0.15291828474411717, 0.15975183960088926, 0.07158208516469314, 0.07715081381018704]\n",
      "**********************************************************************************\n",
      "Week 28/07/2022 momentum : [0.08817247333824302, 0.08771516158141457, 0.08301031565145844, 0.08642682659828775, 0.15098763249475114, 0.049999999999999996, 0.09565465125305099, 0.13968753657356225, 0.13743987465137233, 0.08090552785785943]\n",
      "**********************************************************************************\n",
      "Week 04/08/2022 momentum : [0.10983089852127556, 0.10985934674884157, 0.1181561247071355, 0.049999999999999996, 0.11330254067113396, 0.10587438310523847, 0.09651816714415057, 0.10754630653822604, 0.11627378636395119, 0.07263844620004695]\n",
      "**********************************************************************************\n",
      "Week 11/08/2022 momentum : [0.11417322441150494, 0.11575622625691738, 0.11021380408940422, 0.10593910016799342, 0.05, 0.11132383952224505, 0.10428641748772655, 0.11878355298682514, 0.11280675459886308, 0.05671708047852035]\n",
      "**********************************************************************************\n",
      "Week 18/08/2022 momentum : [0.11219473822759017, 0.11299044878438361, 0.1138326541281706, 0.10835171202373965, 0.05000000000000002, 0.10959272829940768, 0.11737690787488236, 0.1009274671230202, 0.11067550796260671, 0.06405783557619883]\n",
      "**********************************************************************************\n",
      "Week 25/08/2022 momentum : [0.12328772353017857, 0.12895599191575838, 0.13434685627286808, 0.08738617711144794, 0.07843171344795244, 0.12394417427374017, 0.05000000000000002, 0.13395462851041284, 0.08969273493764146, 0.05000000000000004]\n",
      "**********************************************************************************\n",
      "Week 01/09/2022 momentum : [0.11293797305944397, 0.11152424594353327, 0.10280481764228791, 0.09684300306759348, 0.05000000000000001, 0.11009355682691391, 0.1131552903979467, 0.10255011395724897, 0.11110780390384839, 0.08898319520118342]\n",
      "**********************************************************************************\n",
      "Week 08/09/2022 momentum : [0.1272457124405138, 0.12408402812122488, 0.1045881780297875, 0.12382353807450278, 0.05314988985642478, 0.12460374116402657, 0.06598528480313458, 0.05, 0.11738952766189531, 0.10913009984848993]\n",
      "**********************************************************************************\n",
      "Week 15/09/2022 momentum : [0.09658463079685892, 0.09629291041390439, 0.09357620293605105, 0.0953185830489564, 0.11753369796713566, 0.049999999999999996, 0.1233997349199753, 0.11708434221965974, 0.09429867634131056, 0.11591122135614784]\n",
      "**********************************************************************************\n",
      "Week 22/09/2022 momentum : [0.10221660293154558, 0.10258417967198183, 0.09902802947165334, 0.10047542546971744, 0.05000000000000001, 0.11246422852650743, 0.11664305414393814, 0.11992086743695564, 0.09964374218928343, 0.09702387015841717]\n",
      "**********************************************************************************\n",
      "Week 29/09/2022 momentum : [0.08626597262700497, 0.13082228254585393, 0.12691280690914092, 0.1409600332619932, 0.05000000000000002, 0.04999999999999999, 0.10485143827778758, 0.152250662926438, 0.10104911343980595, 0.056887690011975536]\n",
      "**********************************************************************************\n",
      "Week 06/10/2022 momentum : [0.11999566973623998, 0.11613808442085519, 0.10861636059727255, 0.11133510331077057, 0.061558483702271044, 0.05000000000000001, 0.11177525653897834, 0.14716954307113406, 0.09559849984005502, 0.07781299878242326]\n",
      "**********************************************************************************\n",
      "Week 13/10/2022 momentum : [0.09615830744923977, 0.0955926354868499, 0.09599582676241063, 0.09357894754240484, 0.12058545115156141, 0.049999999999999996, 0.11291538644372255, 0.09472440641204215, 0.1279520941913259, 0.11249694456044292]\n",
      "**********************************************************************************\n"
     ]
    }
   ],
   "source": [
    "bt = Backtesting(0.01)\n",
    "portfolio_dict1,portfolio_value1 = bt.backtesting1(df_returns,week_optimal_allocation)\n",
    "portfolio_dict2,portfolio_value2 = bt.backtesting2(df_returns,week_optimal_allocation,equal_weight_index)"
   ]
  },
  {
   "cell_type": "code",
   "execution_count": 34,
   "metadata": {},
   "outputs": [
    {
     "data": {
      "image/png": "[encoded data removed]",
      "text/plain": [
       "<Figure size 1440x720 with 1 Axes>"
      ]
     },
     "metadata": {
      "needs_background": "light"
     },
     "output_type": "display_data"
    }
   ],
   "source": [
    "plt.figure(figsize=(20,10))\n",
    "plt.plot(list(portfolio_value1.values()), label='strategy 1')\n",
    "plt.plot(list(portfolio_value2.values()), label='strategy 2')\n",
    "plt.legend(loc=\"upper left\")\n",
    "plt.title(\"Strategy 1&2 Value\")\n",
    "plt.show()"
   ]
  },
  {
   "cell_type": "markdown",
   "metadata": {},
   "source": [
    "<div class=\"alert alert-block alert-success\">\n",
    "<strong><em>Evaluation and Comparison\n",
    "</div>"
   ]
  },
  {
   "cell_type": "code",
   "execution_count": 35,
   "metadata": {},
   "outputs": [],
   "source": [
    "from defi.evaluation import ann_estimated_sharpe_ratio, estimated_skewness, estimated_kurtosis, probabilistic_sharpe_ratio"
   ]
  },
  {
   "cell_type": "code",
   "execution_count": 36,
   "metadata": {},
   "outputs": [],
   "source": [
    "df_porfolioValue = pd.DataFrame({'portfolioValue':portfolio_value1.values()},index=portfolio_value1.keys())\n",
    "arPortfolioPrices = np.asarray(df_porfolioValue)\n",
    "[rows, cols]= arPortfolioPrices.shape\n",
    "returns_st1 = DefiReturnsComputing(arPortfolioPrices,rows,cols).reshape(1,-1)[0]"
   ]
  },
  {
   "cell_type": "code",
   "execution_count": 37,
   "metadata": {},
   "outputs": [],
   "source": [
    "df_porfolioValue = pd.DataFrame({'portfolioValue':portfolio_value2.values()},index=portfolio_value1.keys())\n",
    "arPortfolioPrices = np.asarray(df_porfolioValue)\n",
    "[rows, cols]= arPortfolioPrices.shape\n",
    "returns_st2 = DefiReturnsComputing(arPortfolioPrices,rows,cols).reshape(1,-1)[0]"
   ]
  },
  {
   "cell_type": "code",
   "execution_count": 38,
   "metadata": {},
   "outputs": [
    {
     "name": "stderr",
     "output_type": "stream",
     "text": [
      "C:\\Users\\Mouad Bouaida\\Anaconda3\\envs\\py39\\lib\\site-packages\\seaborn\\distributions.py:2619: FutureWarning: `distplot` is a deprecated function and will be removed in a future version. Please adapt your code to use either `displot` (a figure-level function with similar flexibility) or `histplot` (an axes-level function for histograms).\n",
      "  warnings.warn(msg, FutureWarning)\n"
     ]
    },
    {
     "data": {
      "image/png": "[encoded data removed]",
      "text/plain": [
       "<Figure size 1080x576 with 1 Axes>"
      ]
     },
     "metadata": {
      "needs_background": "light"
     },
     "output_type": "display_data"
    }
   ],
   "source": [
    "plt.figure(figsize=(15,8))\n",
    "sns.distplot(pd.Series(returns_st1), hist=True, kde=True, color='red',  bins=100).set_title('Strategy 1 returns distribution')\n",
    "plt.grid() \n",
    "plt.show()"
   ]
  },
  {
   "cell_type": "code",
   "execution_count": 39,
   "metadata": {},
   "outputs": [
    {
     "name": "stderr",
     "output_type": "stream",
     "text": [
      "C:\\Users\\Mouad Bouaida\\Anaconda3\\envs\\py39\\lib\\site-packages\\seaborn\\distributions.py:2619: FutureWarning: `distplot` is a deprecated function and will be removed in a future version. Please adapt your code to use either `displot` (a figure-level function with similar flexibility) or `histplot` (an axes-level function for histograms).\n",
      "  warnings.warn(msg, FutureWarning)\n"
     ]
    },
    {
     "data": {
      "image/png": "[encoded data removed]",
      "text/plain": [
       "<Figure size 1080x576 with 1 Axes>"
      ]
     },
     "metadata": {
      "needs_background": "light"
     },
     "output_type": "display_data"
    },
    {
     "name": "stderr",
     "output_type": "stream",
     "text": [
      "C:\\Users\\Mouad Bouaida\\Anaconda3\\envs\\py39\\lib\\site-packages\\seaborn\\distributions.py:2619: FutureWarning: `distplot` is a deprecated function and will be removed in a future version. Please adapt your code to use either `displot` (a figure-level function with similar flexibility) or `histplot` (an axes-level function for histograms).\n",
      "  warnings.warn(msg, FutureWarning)\n"
     ]
    },
    {
     "data": {
      "image/png": "[encoded data removed]",
      "text/plain": [
       "<Figure size 1080x576 with 1 Axes>"
      ]
     },
     "metadata": {
      "needs_background": "light"
     },
     "output_type": "display_data"
    }
   ],
   "source": [
    "plt.figure(figsize=(15,8))\n",
    "sns.distplot(pd.Series(returns_st2), hist=True, kde=True, color='green',  bins=100).set_title('Strategy 2 returns distribution')\n",
    "plt.grid() \n",
    "plt.show()\n",
    "\n",
    "plt.figure(figsize=(15,8))\n",
    "sns.distplot(pd.Series(returns_st2[returns_st2!=0]), hist=True, kde=True, color='green',  bins=100).set_title('Strategy 2 returns distribution (All days with 0% return are droped)')\n",
    "plt.grid() \n",
    "plt.show()"
   ]
  },
  {
   "cell_type": "code",
   "execution_count": 40,
   "metadata": {},
   "outputs": [
    {
     "name": "stdout",
     "output_type": "stream",
     "text": [
      "The annualized estimated sharpe ratio of strategy 1 :  1.22\n",
      "The annualized estimated sharpe ratio of strategy 2 :  0.965\n",
      "The annualized estimated sharpe ratio of strategy 2 (All 0% returns are droped) :  1.337\n"
     ]
    }
   ],
   "source": [
    "ann_sr_st1 = ann_estimated_sharpe_ratio(returns_st1)\n",
    "ann_sr_st2 = ann_estimated_sharpe_ratio(returns_st2)\n",
    "ann_sr_st2_0 = ann_estimated_sharpe_ratio(returns_st2[returns_st2!=0])\n",
    "\n",
    "print('The annualized estimated sharpe ratio of strategy 1 : ', round(ann_sr_st1,3))\n",
    "print('The annualized estimated sharpe ratio of strategy 2 : ', round(ann_sr_st2,3))\n",
    "print('The annualized estimated sharpe ratio of strategy 2 (All 0% returns are droped) : ', round(ann_sr_st2_0,3))"
   ]
  },
  {
   "cell_type": "code",
   "execution_count": 41,
   "metadata": {},
   "outputs": [
    {
     "name": "stdout",
     "output_type": "stream",
     "text": [
      "The estimated skewness of strategy 1 :  1.862\n",
      "The estimated skewness of strategy 2 :  3.279\n",
      "The estimated skewness of strategy 2 (All 0% returns are droped) :  2.262\n"
     ]
    }
   ],
   "source": [
    "skewness_st1 = estimated_skewness(returns_st1).values[0]\n",
    "skewness_st2 = estimated_skewness(returns_st2).values[0]\n",
    "skewness_st2_0 = estimated_skewness(returns_st2[returns_st2!=0]).values[0]\n",
    "\n",
    "print('The estimated skewness of strategy 1 : ', round(skewness_st1,3))\n",
    "print('The estimated skewness of strategy 2 : ', round(skewness_st2,3))\n",
    "print('The estimated skewness of strategy 2 (All 0% returns are droped) : ', round(skewness_st2_0,3))"
   ]
  },
  {
   "cell_type": "code",
   "execution_count": 42,
   "metadata": {},
   "outputs": [
    {
     "name": "stdout",
     "output_type": "stream",
     "text": [
      "The estimated kurtosis of strategy 1 :  16.717\n",
      "The estimated kurtosis of strategy 2 :  36.024\n",
      "The estimated kurtosis of strategy 2 (All 0% returns are droped) :  18.562\n"
     ]
    }
   ],
   "source": [
    "kurtosis_st1 = estimated_kurtosis(returns_st1).values[0]\n",
    "kurtosis_st2 = estimated_kurtosis(returns_st2).values[0]\n",
    "kurtosis_st2_0 = estimated_kurtosis(returns_st2[returns_st2!=0]).values[0]\n",
    "\n",
    "print('The estimated kurtosis of strategy 1 : ', round(kurtosis_st1,3))\n",
    "print('The estimated kurtosis of strategy 2 : ', round(kurtosis_st2,3))\n",
    "print('The estimated kurtosis of strategy 2 (All 0% returns are droped) : ', round(kurtosis_st2_0,3))"
   ]
  },
  {
   "cell_type": "code",
   "execution_count": 43,
   "metadata": {},
   "outputs": [
    {
     "name": "stdout",
     "output_type": "stream",
     "text": [
      "PSR of strategy 1 : 97.45 %\n",
      "PSR of strategy 2 : 94.37 %\n",
      "PSR of strategy 2 (All 0% returns are droped) : 94.29 %\n"
     ]
    }
   ],
   "source": [
    "psr_st1 = probabilistic_sharpe_ratio(returns_st1)\n",
    "psr_st2 = probabilistic_sharpe_ratio(returns_st2)\n",
    "psr_st2_0 = probabilistic_sharpe_ratio(returns_st2[returns_st2!=0])\n",
    "\n",
    "print('PSR of strategy 1 :', round(psr_st1*100,2),'%')\n",
    "print('PSR of strategy 2 :', round(psr_st2*100,2),'%')\n",
    "print('PSR of strategy 2 (All 0% returns are droped) :', round(psr_st2_0*100,2),'%')"
   ]
  },
  {
   "cell_type": "markdown",
   "metadata": {},
   "source": [
    "<div class=\"alert alert-block alert-success\">\n",
    "<strong><em>Summary Table\n",
    "</div>"
   ]
  },
  {
   "cell_type": "code",
   "execution_count": 44,
   "metadata": {},
   "outputs": [
    {
     "data": {
      "text/html": [
       "<div>\n",
       "<style scoped>\n",
       "    .dataframe tbody tr th:only-of-type {\n",
       "        vertical-align: middle;\n",
       "    }\n",
       "\n",
       "    .dataframe tbody tr th {\n",
       "        vertical-align: top;\n",
       "    }\n",
       "\n",
       "    .dataframe thead th {\n",
       "        text-align: right;\n",
       "    }\n",
       "</style>\n",
       "<table border=\"1\" class=\"dataframe\">\n",
       "  <thead>\n",
       "    <tr style=\"text-align: right;\">\n",
       "      <th></th>\n",
       "      <th>Strategy 1</th>\n",
       "      <th>Strategy 2</th>\n",
       "      <th>Strategy 2 (0% returns filtred)</th>\n",
       "    </tr>\n",
       "  </thead>\n",
       "  <tbody>\n",
       "    <tr>\n",
       "      <th>Daily Excess Return</th>\n",
       "      <td>0.97%</td>\n",
       "      <td>0.6%</td>\n",
       "      <td>1.15%</td>\n",
       "    </tr>\n",
       "    <tr>\n",
       "      <th>Daily Excess Return Std</th>\n",
       "      <td>12.84%</td>\n",
       "      <td>10.05%</td>\n",
       "      <td>13.89%</td>\n",
       "    </tr>\n",
       "    <tr>\n",
       "      <th>Annualized Excess Return</th>\n",
       "      <td>1030%</td>\n",
       "      <td>350%</td>\n",
       "      <td>1670%</td>\n",
       "    </tr>\n",
       "    <tr>\n",
       "      <th>Annualized Estimated Sharpe Ratio</th>\n",
       "      <td>1.22</td>\n",
       "      <td>0.97</td>\n",
       "      <td>1.34</td>\n",
       "    </tr>\n",
       "    <tr>\n",
       "      <th>Skewness</th>\n",
       "      <td>1.86</td>\n",
       "      <td>3.28</td>\n",
       "      <td>2.26</td>\n",
       "    </tr>\n",
       "    <tr>\n",
       "      <th>Kurtosis</th>\n",
       "      <td>16.72</td>\n",
       "      <td>36.02</td>\n",
       "      <td>18.56</td>\n",
       "    </tr>\n",
       "    <tr>\n",
       "      <th>Probabilistic Sharpe Ratio</th>\n",
       "      <td>97.45%</td>\n",
       "      <td>94.37%</td>\n",
       "      <td>94.29%</td>\n",
       "    </tr>\n",
       "  </tbody>\n",
       "</table>\n",
       "</div>"
      ],
      "text/plain": [
       "                                  Strategy 1 Strategy 2  \\\n",
       "Daily Excess Return                    0.97%       0.6%   \n",
       "Daily Excess Return Std               12.84%     10.05%   \n",
       "Annualized Excess Return               1030%       350%   \n",
       "Annualized Estimated Sharpe Ratio       1.22       0.97   \n",
       "Skewness                                1.86       3.28   \n",
       "Kurtosis                               16.72      36.02   \n",
       "Probabilistic Sharpe Ratio            97.45%     94.37%   \n",
       "\n",
       "                                  Strategy 2 (0% returns filtred)  \n",
       "Daily Excess Return                                         1.15%  \n",
       "Daily Excess Return Std                                    13.89%  \n",
       "Annualized Excess Return                                    1670%  \n",
       "Annualized Estimated Sharpe Ratio                            1.34  \n",
       "Skewness                                                     2.26  \n",
       "Kurtosis                                                    18.56  \n",
       "Probabilistic Sharpe Ratio                                 94.29%  "
      ]
     },
     "execution_count": 44,
     "metadata": {},
     "output_type": "execute_result"
    }
   ],
   "source": [
    "pd.DataFrame({\n",
    "    'Strategy 1':[str(round(np.mean(returns_st1*100),2))+'%',str(round(np.std(returns_st1*100),2))+'%',str(int(round((1+np.mean(returns_st1))**251-1,1)*100))+'%',round(ann_sr_st1,2),round(skewness_st1,2),round(kurtosis_st1,2),str(round(psr_st1*100,2))+'%'],\n",
    "    'Strategy 2':[str(round(np.mean(returns_st2*100),2))+'%',str(round(np.std(returns_st2*100),2))+'%',str(int(round((1+np.mean(returns_st2))**251-1,1)*100))+'%',round(ann_sr_st2,2),round(skewness_st2,2),round(kurtosis_st2,2),str(round(psr_st2*100,2))+'%'],\n",
    "    'Strategy 2 (0% returns filtred)':[str(round(np.mean(returns_st2[returns_st2!=0]*100),2))+'%',str(round(np.std(returns_st2[returns_st2!=0]*100),2))+'%',str(int(round((1+np.mean(returns_st2[returns_st2!=0]))**251-1,1)*100))+'%',round(ann_sr_st2_0,2),round(skewness_st2_0,2),round(kurtosis_st2_0,2),str(round(psr_st2_0*100,2))+'%']\n",
    "},index=['Daily Excess Return','Daily Excess Return Std','Annualized Excess Return','Annualized Estimated Sharpe Ratio','Skewness','Kurtosis','Probabilistic Sharpe Ratio'])"
   ]
  },
  {
   "cell_type": "markdown",
   "metadata": {},
   "source": [
    "## <font color='red'> Conclusion\n",
    "<div class=\"alert alert-block alert-success\">\n",
    "<strong><em>\n",
    "<p>The Table shows that all strategies delivred Sharpe ratios in a 0.97 to 1.34 range and a positive skewness. These solid Sharpe ratios were at least in part a compensation for the high volatility of Defi, taking ‘Momentum crash’ risk and the very eleveted tail risk (kurtosis much greater than 3).\n",
    "    \n",
    "<p>Even if we tried to diversify our portfolio by selecting Defi in different clusters. It seems that the Defi universe is very correlated and as a result of that all strategies suffer a sharp drawdown during market turning points.\n",
    "\n",
    "<p>In addition to tail risk, there are other risks related to Momentum investing. For instance, Momentum can underperform during prolonged periods of range-bound price action and signals used to identify Momentum can also become ineffective.\n",
    "\n",
    "<p>To reduce this risk we can for example use stop loss applied to our momentum strategies. Stop loss can in some cases improve the strategy’s risk adjusted performance. However, these improvements are not dramatic.So, there is no simple cost-less solution that would entirely eliminate momentum tail risk.\n",
    "\n",
    "<p>By comparing these strategies we quickly realize that the first strategy is the best. It has the highest Sharpe ratio, positive skewness and the lowest kutrosis. Moreover, it has the highest Probabilistic Sharpe Ratio which means that strategy 1 has more chances that in the future its returns will have a sharpe ratio greater than 0.\n",
    "</div>"
   ]
  },
  {
   "cell_type": "code",
   "execution_count": null,
   "metadata": {},
   "outputs": [],
   "source": []
  }
 ],
 "metadata": {
  "interpreter": {
   "hash": "8a4f3cccc5e6f7fec66e9d91775d75df391755680e0088fe2e4539edaa1f6dd3"
  },
  "kernelspec": {
   "display_name": "Python 3.9.12 ('py39')",
   "language": "python",
   "name": "python3"
  },
  "language_info": {
   "codemirror_mode": {
    "name": "ipython",
    "version": 3
   },
   "file_extension": ".py",
   "mimetype": "text/x-python",
   "name": "python",
   "nbconvert_exporter": "python",
   "pygments_lexer": "ipython3",
   "version": "3.9.12"
  }
 },
 "nbformat": 4,
 "nbformat_minor": 2
}
